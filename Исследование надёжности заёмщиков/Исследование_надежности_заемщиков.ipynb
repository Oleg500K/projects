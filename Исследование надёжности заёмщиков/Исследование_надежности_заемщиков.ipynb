{
  "cells": [
    {
      "cell_type": "markdown",
      "source": [
        "# Проектная работа \"Исследование надёжности заёмщиков\"\n",
        "\n",
        "***Описание проекта***\n",
        "\n",
        "Клиентом является кредитный отдел банка, исследование направлено на выяснение влияния семейного положения и количества детей клиента на своевременное погашение кредита. Входные данные предоставлены банком в виде статистики о финансовой способности клиентов. Результаты исследования будут учтены при разработке модели кредитного скоринга. Эта модель представляет собой специальную систему, оценивающую способность потенциального заёмщика возвратить кредит банку.\n",
        "\n",
        "***Описание данных***\n",
        "\n",
        "children — количество детей в семье\n",
        "days_employed — общий трудовой стаж в днях\n",
        "dob_years — возраст клиента в годах\n",
        "education — уровень образования клиента\n",
        "education_id — идентификатор уровня образования\n",
        "family_status — семейное положение\n",
        "family_status_id — идентификатор семейного положения\n",
        "gender — пол клиента\n",
        "income_type — тип занятости\n",
        "debt — имел ли задолженность по возврату кредитов\n",
        "total_income — ежемесячный доход\n",
        "purpose — цель получения кредита"
      ],
      "metadata": {
        "id": "BGmIREA_UOvJ"
      },
      "id": "BGmIREA_UOvJ"
    },
    {
      "cell_type": "markdown",
      "source": [
        "## Изучим данные"
      ],
      "metadata": {
        "id": "M5vmSxERZOMb"
      },
      "id": "M5vmSxERZOMb"
    },
    {
      "cell_type": "code",
      "execution_count": null,
      "id": "fab207d0",
      "metadata": {
        "id": "fab207d0"
      },
      "outputs": [],
      "source": [
        "import pandas as pd # импортируем библиотеку pandas\n",
        "from IPython.display import display"
      ]
    },
    {
      "cell_type": "code",
      "execution_count": null,
      "id": "6c82b607",
      "metadata": {
        "id": "6c82b607"
      },
      "outputs": [],
      "source": [
        "data = pd.read_csv('/content/drive/MyDrive/Colab Notebooks/Practicum_project/Проекты_Яндекс_Практикум/Исследование надежности заемщиков/Исследование надежности заемщиков.csv') # прочитаем csv-файл"
      ]
    },
    {
      "cell_type": "code",
      "execution_count": null,
      "id": "4ff33b36",
      "metadata": {
        "id": "4ff33b36",
        "colab": {
          "base_uri": "https://localhost:8080/"
        },
        "outputId": "0bf4213e-3a0b-4ee2-f996-13b1d0446e1b"
      },
      "outputs": [
        {
          "output_type": "stream",
          "name": "stdout",
          "text": [
            "    children  days_employed  dob_years            education  education_id  \\\n",
            "0          1   -8437.673028         42               высшее             0   \n",
            "1          1   -4024.803754         36              среднее             1   \n",
            "2          0   -5623.422610         33              Среднее             1   \n",
            "3          3   -4124.747207         32              среднее             1   \n",
            "4          0  340266.072047         53              среднее             1   \n",
            "5          0    -926.185831         27               высшее             0   \n",
            "6          0   -2879.202052         43               высшее             0   \n",
            "7          0    -152.779569         50              СРЕДНЕЕ             1   \n",
            "8          2   -6929.865299         35               ВЫСШЕЕ             0   \n",
            "9          0   -2188.756445         41              среднее             1   \n",
            "10         2   -4171.483647         36               высшее             0   \n",
            "11         0    -792.701887         40              среднее             1   \n",
            "12         0            NaN         65              среднее             1   \n",
            "13         0   -1846.641941         54  неоконченное высшее             2   \n",
            "14         0   -1844.956182         56               высшее             0   \n",
            "15         1    -972.364419         26              среднее             1   \n",
            "16         0   -1719.934226         35              среднее             1   \n",
            "17         0   -2369.999720         33               высшее             0   \n",
            "18         0  400281.136913         53              среднее             1   \n",
            "19         0  -10038.818549         48              СРЕДНЕЕ             1   \n",
            "\n",
            "       family_status  family_status_id gender income_type  debt  \\\n",
            "0    женат / замужем                 0      F   сотрудник     0   \n",
            "1    женат / замужем                 0      F   сотрудник     0   \n",
            "2    женат / замужем                 0      M   сотрудник     0   \n",
            "3    женат / замужем                 0      M   сотрудник     0   \n",
            "4   гражданский брак                 1      F   пенсионер     0   \n",
            "5   гражданский брак                 1      M   компаньон     0   \n",
            "6    женат / замужем                 0      F   компаньон     0   \n",
            "7    женат / замужем                 0      M   сотрудник     0   \n",
            "8   гражданский брак                 1      F   сотрудник     0   \n",
            "9    женат / замужем                 0      M   сотрудник     0   \n",
            "10   женат / замужем                 0      M   компаньон     0   \n",
            "11   женат / замужем                 0      F   сотрудник     0   \n",
            "12  гражданский брак                 1      M   пенсионер     0   \n",
            "13   женат / замужем                 0      F   сотрудник     0   \n",
            "14  гражданский брак                 1      F   компаньон     1   \n",
            "15   женат / замужем                 0      F   сотрудник     0   \n",
            "16   женат / замужем                 0      F   сотрудник     0   \n",
            "17  гражданский брак                 1      M   сотрудник     0   \n",
            "18    вдовец / вдова                 2      F   пенсионер     0   \n",
            "19         в разводе                 3      F   сотрудник     0   \n",
            "\n",
            "     total_income                                 purpose  \n",
            "0   253875.639453                           покупка жилья  \n",
            "1   112080.014102                 приобретение автомобиля  \n",
            "2   145885.952297                           покупка жилья  \n",
            "3   267628.550329              дополнительное образование  \n",
            "4   158616.077870                         сыграть свадьбу  \n",
            "5   255763.565419                           покупка жилья  \n",
            "6   240525.971920                       операции с жильем  \n",
            "7   135823.934197                             образование  \n",
            "8    95856.832424                   на проведение свадьбы  \n",
            "9   144425.938277                 покупка жилья для семьи  \n",
            "10  113943.491460                    покупка недвижимости  \n",
            "11   77069.234271       покупка коммерческой недвижимости  \n",
            "12            NaN                         сыграть свадьбу  \n",
            "13  130458.228857                 приобретение автомобиля  \n",
            "14  165127.911772              покупка жилой недвижимости  \n",
            "15  116820.904450  строительство собственной недвижимости  \n",
            "16  289202.704229                            недвижимость  \n",
            "17   90410.586745              строительство недвижимости  \n",
            "18   56823.777243      на покупку подержанного автомобиля  \n",
            "19  242831.107982            на покупку своего автомобиля  \n"
          ]
        }
      ],
      "source": [
        "print(data.head(20))# посмотрим первые 20 строк данных"
      ]
    },
    {
      "cell_type": "code",
      "execution_count": null,
      "id": "e1ed9908",
      "metadata": {
        "id": "e1ed9908",
        "colab": {
          "base_uri": "https://localhost:8080/"
        },
        "outputId": "f929c910-5ae0-4239-f57b-1243463eefd9"
      },
      "outputs": [
        {
          "output_type": "stream",
          "name": "stdout",
          "text": [
            "<class 'pandas.core.frame.DataFrame'>\n",
            "RangeIndex: 21525 entries, 0 to 21524\n",
            "Data columns (total 12 columns):\n",
            " #   Column            Non-Null Count  Dtype  \n",
            "---  ------            --------------  -----  \n",
            " 0   children          21525 non-null  int64  \n",
            " 1   days_employed     19351 non-null  float64\n",
            " 2   dob_years         21525 non-null  int64  \n",
            " 3   education         21525 non-null  object \n",
            " 4   education_id      21525 non-null  int64  \n",
            " 5   family_status     21525 non-null  object \n",
            " 6   family_status_id  21525 non-null  int64  \n",
            " 7   gender            21525 non-null  object \n",
            " 8   income_type       21525 non-null  object \n",
            " 9   debt              21525 non-null  int64  \n",
            " 10  total_income      19351 non-null  float64\n",
            " 11  purpose           21525 non-null  object \n",
            "dtypes: float64(2), int64(5), object(5)\n",
            "memory usage: 2.0+ MB\n"
          ]
        }
      ],
      "source": [
        "data.info() # выведем информацию о датафрейме"
      ]
    },
    {
      "cell_type": "markdown",
      "id": "f969a1cd",
      "metadata": {
        "deletable": false,
        "editable": false,
        "id": "f969a1cd"
      },
      "source": [
        "В датафрейме выявили пропущенные значения в столбцах days_employed и  total_income. Выведем количество пропущенных значений для каждого столбца."
      ]
    },
    {
      "cell_type": "code",
      "execution_count": null,
      "id": "b7a096e1",
      "metadata": {
        "id": "b7a096e1",
        "colab": {
          "base_uri": "https://localhost:8080/"
        },
        "outputId": "d1e3a7f5-978d-420d-b32d-19718f6418b7"
      },
      "outputs": [
        {
          "output_type": "execute_result",
          "data": {
            "text/plain": [
              "children               0\n",
              "days_employed       2174\n",
              "dob_years              0\n",
              "education              0\n",
              "education_id           0\n",
              "family_status          0\n",
              "family_status_id       0\n",
              "gender                 0\n",
              "income_type            0\n",
              "debt                   0\n",
              "total_income           0\n",
              "purpose                0\n",
              "dtype: int64"
            ]
          },
          "metadata": {},
          "execution_count": 12
        }
      ],
      "source": [
        "data.isna().sum() # количество пропущенных значений\n"
      ]
    },
    {
      "cell_type": "markdown",
      "source": [
        "## Проведем предобработку данных"
      ],
      "metadata": {
        "id": "0cKUXIt7Zm4K"
      },
      "id": "0cKUXIt7Zm4K"
    },
    {
      "cell_type": "markdown",
      "source": [
        "### Заполним пропуски"
      ],
      "metadata": {
        "id": "-n5iH3QTZws6"
      },
      "id": "-n5iH3QTZws6"
    },
    {
      "cell_type": "markdown",
      "id": "c2578616",
      "metadata": {
        "deletable": false,
        "editable": false,
        "id": "c2578616",
        "tags": [
          "start_task"
        ]
      },
      "source": [
        "Начнем с рассмотрения столбца total_income, который содержит информацию о доходах. Тип занятости сильно влияет на сумму дохода, поэтому мы планируем заполнить пропуски в этом столбце медианными значениями для каждого типа из столбца income_type. Например, если у человека указан тип занятости сотрудник, пропущенное значение в столбце total_income будет заполнено медианным доходом среди всех записей с тем же типом занятости."
      ]
    },
    {
      "cell_type": "code",
      "execution_count": null,
      "id": "e8afc4bc",
      "metadata": {
        "id": "e8afc4bc",
        "colab": {
          "base_uri": "https://localhost:8080/"
        },
        "outputId": "c7775fec-3c26-437f-800f-5a16d811320a"
      },
      "outputs": [
        {
          "output_type": "stream",
          "name": "stdout",
          "text": [
            "0\n"
          ]
        }
      ],
      "source": [
        "# перебираем каждый тип занятости в наборе уникальных значений столба income_type\n",
        "for type in data['income_type'].unique():\n",
        "    # на каждом шаге цикла с помощью атрибута loc выбираем строки,\n",
        "    # в которых в income_type текущий тип занятости (type) и есть пропуски в total_income\n",
        "    data.loc[(data['income_type'] == type) & (data['total_income'].isna()), 'total_income'] = \\\n",
        "    data.loc[(data['income_type'] == type), 'total_income'].median()\n",
        "    # и записываем в них среднее значение total_income среди строк с текущим типом занятости (type)\n",
        "\n",
        "# проверяем, что все пропуски заполнены\n",
        "print(data['total_income'].isna().sum())\n"
      ]
    },
    {
      "cell_type": "markdown",
      "source": [
        "Заполним пропуски в столбце `days_employed` медианными значениями по каждому типу занятости `income_type`."
      ],
      "metadata": {
        "id": "T_v_KjZzZTna"
      },
      "id": "T_v_KjZzZTna"
    },
    {
      "cell_type": "code",
      "source": [
        "# перебираем каждый тип занятости в наборе уникальных значений столба income_type\n",
        "for type in data['income_type'].unique():\n",
        "    # на каждом шаге цикла с помощью атрибута loc выбираем строки,\n",
        "    # в которых в income_type текущий тип занятости (type) и есть пропуски в days_employed\n",
        "    data.loc[(data['income_type'] == type) & (data['days_employed'].isna()), 'days_employed'] = \\\n",
        "    data.loc[(data['income_type'] == type), 'days_employed'].median()\n",
        "    # и записываем в них медианное значение days_employed среди строк с текущим типом занятости (type)\n",
        "\n",
        "# проверяем, что все пропуски заполнены\n",
        "print(data['days_employed'].isna().sum())"
      ],
      "metadata": {
        "colab": {
          "base_uri": "https://localhost:8080/"
        },
        "id": "zuPQIdjrZY0p",
        "outputId": "c48ebadb-e059-43d9-8903-605e77d02050"
      },
      "id": "zuPQIdjrZY0p",
      "execution_count": null,
      "outputs": [
        {
          "output_type": "stream",
          "name": "stdout",
          "text": [
            "0\n"
          ]
        }
      ]
    },
    {
      "cell_type": "markdown",
      "source": [
        "Убедимся, что все пропуски заполнены. Выведем количество пропущенных значений для каждого столбца."
      ],
      "metadata": {
        "id": "1Fud5SNFa7Pm"
      },
      "id": "1Fud5SNFa7Pm"
    },
    {
      "cell_type": "code",
      "source": [
        "data.isna().sum()"
      ],
      "metadata": {
        "colab": {
          "base_uri": "https://localhost:8080/"
        },
        "id": "ZUaKE2V0bEW3",
        "outputId": "ae555e1e-1b0c-453f-fa0f-8d8809691bd4"
      },
      "id": "ZUaKE2V0bEW3",
      "execution_count": null,
      "outputs": [
        {
          "output_type": "execute_result",
          "data": {
            "text/plain": [
              "children            0\n",
              "days_employed       0\n",
              "dob_years           0\n",
              "education           0\n",
              "education_id        0\n",
              "family_status       0\n",
              "family_status_id    0\n",
              "gender              0\n",
              "income_type         0\n",
              "debt                0\n",
              "total_income        0\n",
              "purpose             0\n",
              "dtype: int64"
            ]
          },
          "metadata": {},
          "execution_count": 19
        }
      ]
    },
    {
      "cell_type": "markdown",
      "id": "ae986d46",
      "metadata": {
        "deletable": false,
        "editable": false,
        "id": "ae986d46"
      },
      "source": [
        "### Обработаем аномальные значения"
      ]
    },
    {
      "cell_type": "markdown",
      "id": "b049cbae",
      "metadata": {
        "deletable": false,
        "editable": false,
        "id": "b049cbae",
        "tags": [
          "start_task"
        ]
      },
      "source": [
        "В данном случае аномалия это присутствие отрицательного количества дней трудового стажа в столбце `days_employed`. Обработаем значения в этом столбце: заменим все отрицательные значения положительными."
      ]
    },
    {
      "cell_type": "code",
      "execution_count": null,
      "id": "187779b0",
      "metadata": {
        "id": "187779b0",
        "colab": {
          "base_uri": "https://localhost:8080/"
        },
        "outputId": "805c1b65-b963-478b-b497-e76028dac824"
      },
      "outputs": [
        {
          "output_type": "stream",
          "name": "stdout",
          "text": [
            "   children  days_employed  dob_years education  education_id  \\\n",
            "0         1    8437.673028         42    высшее             0   \n",
            "1         1    4024.803754         36   среднее             1   \n",
            "2         0    5623.422610         33   Среднее             1   \n",
            "3         3    4124.747207         32   среднее             1   \n",
            "4         0  340266.072047         53   среднее             1   \n",
            "\n",
            "      family_status  family_status_id gender income_type  debt   total_income  \\\n",
            "0   женат / замужем                 0      F   сотрудник     0  253875.639453   \n",
            "1   женат / замужем                 0      F   сотрудник     0  112080.014102   \n",
            "2   женат / замужем                 0      M   сотрудник     0  145885.952297   \n",
            "3   женат / замужем                 0      M   сотрудник     0  267628.550329   \n",
            "4  гражданский брак                 1      F   пенсионер     0  158616.077870   \n",
            "\n",
            "                      purpose  \n",
            "0               покупка жилья  \n",
            "1     приобретение автомобиля  \n",
            "2               покупка жилья  \n",
            "3  дополнительное образование  \n",
            "4             сыграть свадьбу  \n"
          ]
        }
      ],
      "source": [
        "data['days_employed'] = data['days_employed'].abs() # произведем замену\n",
        "print(data.head())"
      ]
    },
    {
      "cell_type": "markdown",
      "id": "a13054c2",
      "metadata": {
        "deletable": false,
        "editable": false,
        "id": "a13054c2",
        "tags": [
          "start_task"
        ]
      },
      "source": [
        "Для каждого типа занятости выведем медианное значение трудового стажа `days_employed` в днях."
      ]
    },
    {
      "cell_type": "code",
      "execution_count": null,
      "id": "f3f5810c",
      "metadata": {
        "id": "f3f5810c",
        "colab": {
          "base_uri": "https://localhost:8080/"
        },
        "outputId": "72969d47-a595-4282-82ce-be009af6b920"
      },
      "outputs": [
        {
          "output_type": "stream",
          "name": "stdout",
          "text": [
            "income_type\n",
            "безработный        366413.652744\n",
            "в декрете            3296.759962\n",
            "госслужащий          2689.368353\n",
            "компаньон            1547.382223\n",
            "пенсионер          365213.306266\n",
            "предприниматель       520.848083\n",
            "сотрудник            1574.202821\n",
            "студент               578.751554\n",
            "Name: days_employed, dtype: float64\n"
          ]
        }
      ],
      "source": [
        "days_employed_mediana = data.groupby('income_type')['days_employed'].median()# ваш код здесь\n",
        "print(days_employed_mediana)"
      ]
    },
    {
      "cell_type": "markdown",
      "id": "dbc3168c",
      "metadata": {
        "deletable": false,
        "editable": false,
        "id": "dbc3168c"
      },
      "source": [
        "Аномально большие значения у безработных и пенсионеров оставляем, так как их очень сложно исправить, без доступа к методике сбора и фиксации этих данных."
      ]
    },
    {
      "cell_type": "markdown",
      "id": "ff4378c2",
      "metadata": {
        "deletable": false,
        "editable": false,
        "id": "ff4378c2",
        "tags": [
          "start_task"
        ]
      },
      "source": [
        "Выведем перечень уникальных значений столбца `children`."
      ]
    },
    {
      "cell_type": "code",
      "execution_count": null,
      "id": "9bd0c232",
      "metadata": {
        "id": "9bd0c232",
        "colab": {
          "base_uri": "https://localhost:8080/"
        },
        "outputId": "42397cfb-cee8-4f24-f2db-7c772a5e1403"
      },
      "outputs": [
        {
          "output_type": "stream",
          "name": "stdout",
          "text": [
            "[ 1  0  3  2 -1  4 20  5]\n"
          ]
        }
      ],
      "source": [
        "children_column = data['children'].unique()# ваш код здесь\n",
        "print(children_column)"
      ]
    },
    {
      "cell_type": "markdown",
      "id": "8e911990",
      "metadata": {
        "deletable": false,
        "editable": false,
        "id": "8e911990",
        "tags": [
          "start_task"
        ]
      },
      "source": [
        "Удалим строки, в столбце `children` где встречаются аномальные значения."
      ]
    },
    {
      "cell_type": "code",
      "execution_count": null,
      "id": "6d5ba289",
      "metadata": {
        "id": "6d5ba289"
      },
      "outputs": [],
      "source": [
        "# воспользуемся оператором drop\n",
        "data.drop(data[data['children'] == -1].index, inplace=True)\n",
        "data.drop(data[data['children'] == 20].index, inplace=True)\n"
      ]
    },
    {
      "cell_type": "markdown",
      "id": "18d77455",
      "metadata": {
        "deletable": false,
        "editable": false,
        "id": "18d77455",
        "tags": [
          "start_task"
        ]
      },
      "source": [
        "Выведем перечень уникальных значений столбца `children`, чтобы убедиться, что артефакты удалены."
      ]
    },
    {
      "cell_type": "code",
      "execution_count": null,
      "id": "2c5fa92c",
      "metadata": {
        "id": "2c5fa92c",
        "colab": {
          "base_uri": "https://localhost:8080/"
        },
        "outputId": "6f8ef91e-a090-4495-996c-e0f0dd26e49a"
      },
      "outputs": [
        {
          "output_type": "stream",
          "name": "stdout",
          "text": [
            "[1 0 3 2 4 5]\n"
          ]
        }
      ],
      "source": [
        "children_column = data['children'].unique()\n",
        "print(children_column)"
      ]
    },
    {
      "cell_type": "markdown",
      "id": "bd4aeb20",
      "metadata": {
        "deletable": false,
        "editable": false,
        "id": "bd4aeb20"
      },
      "source": [
        "### Изменение типов данных"
      ]
    },
    {
      "cell_type": "markdown",
      "id": "963bfa58",
      "metadata": {
        "deletable": false,
        "editable": false,
        "id": "963bfa58",
        "tags": [
          "start_task"
        ]
      },
      "source": [
        "Изменим тип данных."
      ]
    },
    {
      "cell_type": "code",
      "execution_count": null,
      "id": "73da6ea0",
      "metadata": {
        "id": "73da6ea0"
      },
      "outputs": [],
      "source": [
        "data['total_income'] = data['total_income'].astype(int)"
      ]
    },
    {
      "cell_type": "markdown",
      "id": "d290239e",
      "metadata": {
        "deletable": false,
        "editable": false,
        "id": "d290239e"
      },
      "source": [
        "### Обработка дубликатов"
      ]
    },
    {
      "cell_type": "markdown",
      "id": "1b5844fd",
      "metadata": {
        "deletable": false,
        "editable": false,
        "id": "1b5844fd",
        "tags": [
          "start_task"
        ]
      },
      "source": [
        "Проведем обработку неявных дубликатов в столбце `education`. Приведем к нижнему регистру все значения."
      ]
    },
    {
      "cell_type": "code",
      "execution_count": null,
      "id": "3f2504b3",
      "metadata": {
        "id": "3f2504b3"
      },
      "outputs": [],
      "source": [
        "data['education'] = data['education'].str.lower()"
      ]
    },
    {
      "cell_type": "markdown",
      "id": "4c22acbc",
      "metadata": {
        "deletable": false,
        "editable": false,
        "id": "4c22acbc",
        "tags": [
          "start_task"
        ]
      },
      "source": [
        "Избавимся от дубликатов строк"
      ]
    },
    {
      "cell_type": "code",
      "execution_count": null,
      "id": "d34a4325",
      "metadata": {
        "id": "d34a4325",
        "colab": {
          "base_uri": "https://localhost:8080/"
        },
        "outputId": "07c64026-2480-4826-9af4-078f8abb449b"
      },
      "outputs": [
        {
          "output_type": "stream",
          "name": "stdout",
          "text": [
            "71\n"
          ]
        }
      ],
      "source": [
        "duplicates = data.duplicated() # считаем количество дубликатов\n",
        "print(duplicates.sum())"
      ]
    },
    {
      "cell_type": "code",
      "execution_count": null,
      "id": "6e1a6499",
      "metadata": {
        "id": "6e1a6499",
        "colab": {
          "base_uri": "https://localhost:8080/"
        },
        "outputId": "f243f9b6-4225-499b-e886-982ab4e8b0f6"
      },
      "outputs": [
        {
          "output_type": "stream",
          "name": "stdout",
          "text": [
            "0\n"
          ]
        }
      ],
      "source": [
        "data = data.drop_duplicates() # удалим дубликаты\n",
        "duplicates = data.duplicated() # снова посчитаем количество дубликатов\n",
        "print(duplicates.sum()) # выведем результат"
      ]
    },
    {
      "cell_type": "markdown",
      "id": "e5686ccc",
      "metadata": {
        "deletable": false,
        "editable": false,
        "id": "e5686ccc"
      },
      "source": [
        "### Категоризация данных"
      ]
    },
    {
      "cell_type": "markdown",
      "id": "636e9acd",
      "metadata": {
        "deletable": false,
        "editable": false,
        "id": "636e9acd",
        "tags": [
          "start_task"
        ]
      },
      "source": [
        "На основании диапазонов, указанных ниже, создадим в датафрейме `data` столбец `total_income_category` с категориями:\n",
        "\n",
        "- 0–30000 — `'E'`;\n",
        "- 30001–50000 — `'D'`;\n",
        "- 50001–200000 — `'C'`;\n",
        "- 200001–1000000 — `'B'`;\n",
        "- 1000001 и выше — `'A'`.\n"
      ]
    },
    {
      "cell_type": "code",
      "execution_count": null,
      "id": "880a77e5",
      "metadata": {
        "id": "880a77e5"
      },
      "outputs": [],
      "source": [
        "def categorize_income(total_income):  # создаем функцию categorize_income()\n",
        "# если доход клиента до 30000 включительно то относим его к категории 'E'\n",
        "    if total_income <= 30000:\n",
        "        return 'E'\n",
        "# если доход клиента находится в диапазоне 30001–50000 то относим его к категории 'D'\n",
        "    if 30001 <= total_income <= 50000:\n",
        "        return 'D'\n",
        "# если доход клиента находится в диапазоне 50001–200000 то относим его к категории 'C'\n",
        "    if 50001 <= total_income <= 200000:\n",
        "        return 'C'\n",
        "# если доход клиента находится в диапазоне 200001–1000000 то относим его к категории 'B'\n",
        "    if 200001 <= total_income <= 1000000:\n",
        "        return 'B'\n",
        "# если доход клиента составляет 1000001 и выше то относим его к категории 'A'\n",
        "    if total_income >= 1000001:\n",
        "        return 'A'\n",
        "\n"
      ]
    },
    {
      "cell_type": "code",
      "execution_count": null,
      "id": "6f25f161",
      "metadata": {
        "id": "6f25f161"
      },
      "outputs": [],
      "source": [
        "# применим функцию методом apply()\n",
        "data['total_income_category'] = data['total_income'].apply(categorize_income)\n"
      ]
    },
    {
      "cell_type": "markdown",
      "id": "3363b685",
      "metadata": {
        "deletable": false,
        "editable": false,
        "id": "3363b685",
        "tags": [
          "start_task"
        ]
      },
      "source": [
        "Выведем на экран перечень уникальных целей взятия кредита из столбца `purpose`."
      ]
    },
    {
      "cell_type": "code",
      "execution_count": null,
      "id": "e59f2c15",
      "metadata": {
        "id": "e59f2c15",
        "colab": {
          "base_uri": "https://localhost:8080/"
        },
        "outputId": "06d08f65-0a0d-4a63-9164-844593a1cf24"
      },
      "outputs": [
        {
          "output_type": "execute_result",
          "data": {
            "text/plain": [
              "array(['покупка жилья', 'приобретение автомобиля',\n",
              "       'дополнительное образование', 'сыграть свадьбу',\n",
              "       'операции с жильем', 'образование', 'на проведение свадьбы',\n",
              "       'покупка жилья для семьи', 'покупка недвижимости',\n",
              "       'покупка коммерческой недвижимости', 'покупка жилой недвижимости',\n",
              "       'строительство собственной недвижимости', 'недвижимость',\n",
              "       'строительство недвижимости', 'на покупку подержанного автомобиля',\n",
              "       'на покупку своего автомобиля',\n",
              "       'операции с коммерческой недвижимостью',\n",
              "       'строительство жилой недвижимости', 'жилье',\n",
              "       'операции со своей недвижимостью', 'автомобили',\n",
              "       'заняться образованием', 'сделка с подержанным автомобилем',\n",
              "       'получение образования', 'автомобиль', 'свадьба',\n",
              "       'получение дополнительного образования', 'покупка своего жилья',\n",
              "       'операции с недвижимостью', 'получение высшего образования',\n",
              "       'свой автомобиль', 'сделка с автомобилем',\n",
              "       'профильное образование', 'высшее образование',\n",
              "       'покупка жилья для сдачи', 'на покупку автомобиля', 'ремонт жилью',\n",
              "       'заняться высшим образованием'], dtype=object)"
            ]
          },
          "metadata": {},
          "execution_count": 27
        }
      ],
      "source": [
        "data['purpose'].unique()"
      ]
    },
    {
      "cell_type": "markdown",
      "id": "bb33e847",
      "metadata": {
        "deletable": false,
        "editable": false,
        "id": "bb33e847",
        "tags": [
          "start_task"
        ]
      },
      "source": [
        "Создадим функцию, которая на основании данных из столбца `purpose` сформирует новый столбец `purpose_category`, в который войдут следующие категории:\n",
        "\n",
        "- `'операции с автомобилем'`,\n",
        "- `'операции с недвижимостью'`,\n",
        "- `'проведение свадьбы'`,\n",
        "- `'получение образования'`.\n",
        "\n",
        "Таким образом, если в столбце `purpose` находится подстрока `'на покупку автомобиля'`, то в столбце `purpose_category` появиться строка `'операции с автомобилем'`."
      ]
    },
    {
      "cell_type": "code",
      "execution_count": null,
      "id": "63909b83",
      "metadata": {
        "id": "63909b83"
      },
      "outputs": [],
      "source": [
        "def categorize_purpose(purpose):  # создадим функцию categorize_purpose()\n",
        "# если в столбце 'purpose' содержится 'жил' или 'недвиж', тогда относим цель к категории 'операции с недвижимостью'\n",
        "    if ('жил' in purpose) or ('недвиж' in purpose):\n",
        "        return 'операции с недвижимостью'\n",
        "# если в столбце 'purpose' содержится 'авто', тогда относим цель к категории 'операции с автомобилем'\n",
        "    if 'авто' in purpose:\n",
        "        return 'операции с автомобилем'\n",
        "# если в столбце 'purpose' содержится 'свадьб', тогда относим цель к категории 'проведение свадьбы'\n",
        "    if 'свадьб' in purpose:\n",
        "        return 'проведение свадьбы'\n",
        "# если в столбце 'purpose' содержится 'образован', тогда относим цель к категории 'получение образования'\n",
        "    if 'образован' in purpose:\n",
        "        return 'получение образования'\n"
      ]
    },
    {
      "cell_type": "code",
      "execution_count": null,
      "id": "7cb4a81d",
      "metadata": {
        "id": "7cb4a81d"
      },
      "outputs": [],
      "source": [
        "data['purpose_category'] = data['purpose'].apply(categorize_purpose) # примените функцию"
      ]
    },
    {
      "cell_type": "code",
      "execution_count": null,
      "id": "b89f2e44",
      "metadata": {
        "colab": {
          "base_uri": "https://localhost:8080/"
        },
        "id": "b89f2e44",
        "outputId": "0a7df4f9-b2b2-4885-f3c3-9d6a22808021"
      },
      "outputs": [
        {
          "output_type": "execute_result",
          "data": {
            "text/plain": [
              "операции с недвижимостью    10751\n",
              "операции с автомобилем       4279\n",
              "получение образования        3988\n",
              "проведение свадьбы           2313\n",
              "Name: purpose_category, dtype: int64"
            ]
          },
          "metadata": {},
          "execution_count": 30
        }
      ],
      "source": [
        "# посмотрим на получившиеся цели кредитов\n",
        "data['purpose_category'].value_counts()"
      ]
    },
    {
      "cell_type": "markdown",
      "source": [
        "## Исследовательский анализ данных"
      ],
      "metadata": {
        "id": "R-lUHc52gBTe"
      },
      "id": "R-lUHc52gBTe"
    },
    {
      "cell_type": "markdown",
      "source": [
        "### Есть ли зависимость между количеством детей и возвратом кредита в срок?"
      ],
      "metadata": {
        "id": "zrLaZBwOgMNF"
      },
      "id": "zrLaZBwOgMNF"
    },
    {
      "cell_type": "code",
      "source": [
        "from IPython.display import display # импортируем display\n",
        "# сделаем группировку по колонке 'children', посчитаем сумму эпизодов просрочки по каждой группе\n",
        "grouped_1 = data.groupby('children')['debt'].sum()\n",
        "\n",
        "print('ОБЩЕЕ КОЛИЧЕСТВО СЛУЧАЕВ ПРОСРОЧКИ КРЕДИТА В КАЖДОЙ ИЗ ГРУПП С ОПРЕДЕЛЕННЫМ КОЛИЧЕСТВОМ ДЕТЕЙ')\n",
        "\n",
        "# убирем служебное описание данных\n",
        "grouped_1.name = None\n",
        "print(grouped_1.to_string(header=False))\n",
        "\n",
        "print() # выведем пустую строку для удобного чтения результатов\n",
        "\n",
        "# сделаем группировку по колонке 'children', посчитаем количество записей в таблице по каждой группе\n",
        "grouped_2 = data.groupby('children')['debt'].count()\n",
        "\n",
        "print('ОБЩЕЕ КОЛИЧЕСТВО ЗАЕМЩИКОВ В КАЖДОЙ ИЗ ГРУПП С ОПРЕДЕЛЕННЫМ КОЛИЧЕСТВОМ ДЕТЕЙ')\n",
        "\n",
        "print(grouped_2.to_string(header=False))\n",
        "\n",
        "print() # выведем пустую строку для удобного чтения результатов\n",
        "\n",
        "# рассчитаем процент. Оставим 4 знака после запятой, а так же отсортируем результат по убыванию\n",
        "result = ((grouped_1 / grouped_2).round(4)).sort_values(ascending=False)\n",
        "\n",
        "formatted_result = result.apply(lambda x: '{:.2f}%'.format(x*100)) # выведем результат в процентах с двумя знаками после запятой\n",
        "\n",
        "print('ПРОЦЕНТ ПРОСРОЧКИ ВОЗВРАТА КРЕДИТА В ЗАВИСИМОСТИ ОТ КОЛИЧЕСТВА ДЕТЕЙ')\n",
        "print(formatted_result)\n",
        "\n",
        "# выведем объединенную таблицу\n",
        "combined_grouping = data.groupby('children').agg({'debt': ['sum','count']})\n",
        "display(combined_grouping)"
      ],
      "metadata": {
        "colab": {
          "base_uri": "https://localhost:8080/",
          "height": 734
        },
        "id": "Ih4uCHCCgP6T",
        "outputId": "bc24c7b4-1eaf-4fbb-b481-cc141534ac18"
      },
      "id": "Ih4uCHCCgP6T",
      "execution_count": null,
      "outputs": [
        {
          "output_type": "stream",
          "name": "stdout",
          "text": [
            "ОБЩЕЕ КОЛИЧЕСТВО СЛУЧАЕВ ПРОСРОЧКИ КРЕДИТА В КАЖДОЙ ИЗ ГРУПП С ОПРЕДЕЛЕННЫМ КОЛИЧЕСТВОМ ДЕТЕЙ\n",
            "0    1063\n",
            "1     444\n",
            "2     194\n",
            "3      27\n",
            "4       4\n",
            "5       0\n",
            "\n",
            "ОБЩЕЕ КОЛИЧЕСТВО ЗАЕМЩИКОВ В КАЖДОЙ ИЗ ГРУПП С ОПРЕДЕЛЕННЫМ КОЛИЧЕСТВОМ ДЕТЕЙ\n",
            "0    14091\n",
            "1     4808\n",
            "2     2052\n",
            "3      330\n",
            "4       41\n",
            "5        9\n",
            "\n",
            "ПРОЦЕНТ ПРОСРОЧКИ ВОЗВРАТА КРЕДИТА В ЗАВИСИМОСТИ ОТ КОЛИЧЕСТВА ДЕТЕЙ\n",
            "children\n",
            "4    9.76%\n",
            "2    9.45%\n",
            "1    9.23%\n",
            "3    8.18%\n",
            "0    7.54%\n",
            "5    0.00%\n",
            "dtype: object\n"
          ]
        },
        {
          "output_type": "display_data",
          "data": {
            "text/plain": [
              "          debt       \n",
              "           sum  count\n",
              "children             \n",
              "0         1063  14091\n",
              "1          444   4808\n",
              "2          194   2052\n",
              "3           27    330\n",
              "4            4     41\n",
              "5            0      9"
            ],
            "text/html": [
              "\n",
              "  <div id=\"df-f3f1cedb-056a-41c1-af87-7e2fd7977fbc\" class=\"colab-df-container\">\n",
              "    <div>\n",
              "<style scoped>\n",
              "    .dataframe tbody tr th:only-of-type {\n",
              "        vertical-align: middle;\n",
              "    }\n",
              "\n",
              "    .dataframe tbody tr th {\n",
              "        vertical-align: top;\n",
              "    }\n",
              "\n",
              "    .dataframe thead tr th {\n",
              "        text-align: left;\n",
              "    }\n",
              "\n",
              "    .dataframe thead tr:last-of-type th {\n",
              "        text-align: right;\n",
              "    }\n",
              "</style>\n",
              "<table border=\"1\" class=\"dataframe\">\n",
              "  <thead>\n",
              "    <tr>\n",
              "      <th></th>\n",
              "      <th colspan=\"2\" halign=\"left\">debt</th>\n",
              "    </tr>\n",
              "    <tr>\n",
              "      <th></th>\n",
              "      <th>sum</th>\n",
              "      <th>count</th>\n",
              "    </tr>\n",
              "    <tr>\n",
              "      <th>children</th>\n",
              "      <th></th>\n",
              "      <th></th>\n",
              "    </tr>\n",
              "  </thead>\n",
              "  <tbody>\n",
              "    <tr>\n",
              "      <th>0</th>\n",
              "      <td>1063</td>\n",
              "      <td>14091</td>\n",
              "    </tr>\n",
              "    <tr>\n",
              "      <th>1</th>\n",
              "      <td>444</td>\n",
              "      <td>4808</td>\n",
              "    </tr>\n",
              "    <tr>\n",
              "      <th>2</th>\n",
              "      <td>194</td>\n",
              "      <td>2052</td>\n",
              "    </tr>\n",
              "    <tr>\n",
              "      <th>3</th>\n",
              "      <td>27</td>\n",
              "      <td>330</td>\n",
              "    </tr>\n",
              "    <tr>\n",
              "      <th>4</th>\n",
              "      <td>4</td>\n",
              "      <td>41</td>\n",
              "    </tr>\n",
              "    <tr>\n",
              "      <th>5</th>\n",
              "      <td>0</td>\n",
              "      <td>9</td>\n",
              "    </tr>\n",
              "  </tbody>\n",
              "</table>\n",
              "</div>\n",
              "    <div class=\"colab-df-buttons\">\n",
              "\n",
              "  <div class=\"colab-df-container\">\n",
              "    <button class=\"colab-df-convert\" onclick=\"convertToInteractive('df-f3f1cedb-056a-41c1-af87-7e2fd7977fbc')\"\n",
              "            title=\"Convert this dataframe to an interactive table.\"\n",
              "            style=\"display:none;\">\n",
              "\n",
              "  <svg xmlns=\"http://www.w3.org/2000/svg\" height=\"24px\" viewBox=\"0 -960 960 960\">\n",
              "    <path d=\"M120-120v-720h720v720H120Zm60-500h600v-160H180v160Zm220 220h160v-160H400v160Zm0 220h160v-160H400v160ZM180-400h160v-160H180v160Zm440 0h160v-160H620v160ZM180-180h160v-160H180v160Zm440 0h160v-160H620v160Z\"/>\n",
              "  </svg>\n",
              "    </button>\n",
              "\n",
              "  <style>\n",
              "    .colab-df-container {\n",
              "      display:flex;\n",
              "      gap: 12px;\n",
              "    }\n",
              "\n",
              "    .colab-df-convert {\n",
              "      background-color: #E8F0FE;\n",
              "      border: none;\n",
              "      border-radius: 50%;\n",
              "      cursor: pointer;\n",
              "      display: none;\n",
              "      fill: #1967D2;\n",
              "      height: 32px;\n",
              "      padding: 0 0 0 0;\n",
              "      width: 32px;\n",
              "    }\n",
              "\n",
              "    .colab-df-convert:hover {\n",
              "      background-color: #E2EBFA;\n",
              "      box-shadow: 0px 1px 2px rgba(60, 64, 67, 0.3), 0px 1px 3px 1px rgba(60, 64, 67, 0.15);\n",
              "      fill: #174EA6;\n",
              "    }\n",
              "\n",
              "    .colab-df-buttons div {\n",
              "      margin-bottom: 4px;\n",
              "    }\n",
              "\n",
              "    [theme=dark] .colab-df-convert {\n",
              "      background-color: #3B4455;\n",
              "      fill: #D2E3FC;\n",
              "    }\n",
              "\n",
              "    [theme=dark] .colab-df-convert:hover {\n",
              "      background-color: #434B5C;\n",
              "      box-shadow: 0px 1px 3px 1px rgba(0, 0, 0, 0.15);\n",
              "      filter: drop-shadow(0px 1px 2px rgba(0, 0, 0, 0.3));\n",
              "      fill: #FFFFFF;\n",
              "    }\n",
              "  </style>\n",
              "\n",
              "    <script>\n",
              "      const buttonEl =\n",
              "        document.querySelector('#df-f3f1cedb-056a-41c1-af87-7e2fd7977fbc button.colab-df-convert');\n",
              "      buttonEl.style.display =\n",
              "        google.colab.kernel.accessAllowed ? 'block' : 'none';\n",
              "\n",
              "      async function convertToInteractive(key) {\n",
              "        const element = document.querySelector('#df-f3f1cedb-056a-41c1-af87-7e2fd7977fbc');\n",
              "        const dataTable =\n",
              "          await google.colab.kernel.invokeFunction('convertToInteractive',\n",
              "                                                    [key], {});\n",
              "        if (!dataTable) return;\n",
              "\n",
              "        const docLinkHtml = 'Like what you see? Visit the ' +\n",
              "          '<a target=\"_blank\" href=https://colab.research.google.com/notebooks/data_table.ipynb>data table notebook</a>'\n",
              "          + ' to learn more about interactive tables.';\n",
              "        element.innerHTML = '';\n",
              "        dataTable['output_type'] = 'display_data';\n",
              "        await google.colab.output.renderOutput(dataTable, element);\n",
              "        const docLink = document.createElement('div');\n",
              "        docLink.innerHTML = docLinkHtml;\n",
              "        element.appendChild(docLink);\n",
              "      }\n",
              "    </script>\n",
              "  </div>\n",
              "\n",
              "\n",
              "<div id=\"df-9d0bae83-6c2d-46e4-b118-f5192e29c36c\">\n",
              "  <button class=\"colab-df-quickchart\" onclick=\"quickchart('df-9d0bae83-6c2d-46e4-b118-f5192e29c36c')\"\n",
              "            title=\"Suggest charts\"\n",
              "            style=\"display:none;\">\n",
              "\n",
              "<svg xmlns=\"http://www.w3.org/2000/svg\" height=\"24px\"viewBox=\"0 0 24 24\"\n",
              "     width=\"24px\">\n",
              "    <g>\n",
              "        <path d=\"M19 3H5c-1.1 0-2 .9-2 2v14c0 1.1.9 2 2 2h14c1.1 0 2-.9 2-2V5c0-1.1-.9-2-2-2zM9 17H7v-7h2v7zm4 0h-2V7h2v10zm4 0h-2v-4h2v4z\"/>\n",
              "    </g>\n",
              "</svg>\n",
              "  </button>\n",
              "\n",
              "<style>\n",
              "  .colab-df-quickchart {\n",
              "      --bg-color: #E8F0FE;\n",
              "      --fill-color: #1967D2;\n",
              "      --hover-bg-color: #E2EBFA;\n",
              "      --hover-fill-color: #174EA6;\n",
              "      --disabled-fill-color: #AAA;\n",
              "      --disabled-bg-color: #DDD;\n",
              "  }\n",
              "\n",
              "  [theme=dark] .colab-df-quickchart {\n",
              "      --bg-color: #3B4455;\n",
              "      --fill-color: #D2E3FC;\n",
              "      --hover-bg-color: #434B5C;\n",
              "      --hover-fill-color: #FFFFFF;\n",
              "      --disabled-bg-color: #3B4455;\n",
              "      --disabled-fill-color: #666;\n",
              "  }\n",
              "\n",
              "  .colab-df-quickchart {\n",
              "    background-color: var(--bg-color);\n",
              "    border: none;\n",
              "    border-radius: 50%;\n",
              "    cursor: pointer;\n",
              "    display: none;\n",
              "    fill: var(--fill-color);\n",
              "    height: 32px;\n",
              "    padding: 0;\n",
              "    width: 32px;\n",
              "  }\n",
              "\n",
              "  .colab-df-quickchart:hover {\n",
              "    background-color: var(--hover-bg-color);\n",
              "    box-shadow: 0 1px 2px rgba(60, 64, 67, 0.3), 0 1px 3px 1px rgba(60, 64, 67, 0.15);\n",
              "    fill: var(--button-hover-fill-color);\n",
              "  }\n",
              "\n",
              "  .colab-df-quickchart-complete:disabled,\n",
              "  .colab-df-quickchart-complete:disabled:hover {\n",
              "    background-color: var(--disabled-bg-color);\n",
              "    fill: var(--disabled-fill-color);\n",
              "    box-shadow: none;\n",
              "  }\n",
              "\n",
              "  .colab-df-spinner {\n",
              "    border: 2px solid var(--fill-color);\n",
              "    border-color: transparent;\n",
              "    border-bottom-color: var(--fill-color);\n",
              "    animation:\n",
              "      spin 1s steps(1) infinite;\n",
              "  }\n",
              "\n",
              "  @keyframes spin {\n",
              "    0% {\n",
              "      border-color: transparent;\n",
              "      border-bottom-color: var(--fill-color);\n",
              "      border-left-color: var(--fill-color);\n",
              "    }\n",
              "    20% {\n",
              "      border-color: transparent;\n",
              "      border-left-color: var(--fill-color);\n",
              "      border-top-color: var(--fill-color);\n",
              "    }\n",
              "    30% {\n",
              "      border-color: transparent;\n",
              "      border-left-color: var(--fill-color);\n",
              "      border-top-color: var(--fill-color);\n",
              "      border-right-color: var(--fill-color);\n",
              "    }\n",
              "    40% {\n",
              "      border-color: transparent;\n",
              "      border-right-color: var(--fill-color);\n",
              "      border-top-color: var(--fill-color);\n",
              "    }\n",
              "    60% {\n",
              "      border-color: transparent;\n",
              "      border-right-color: var(--fill-color);\n",
              "    }\n",
              "    80% {\n",
              "      border-color: transparent;\n",
              "      border-right-color: var(--fill-color);\n",
              "      border-bottom-color: var(--fill-color);\n",
              "    }\n",
              "    90% {\n",
              "      border-color: transparent;\n",
              "      border-bottom-color: var(--fill-color);\n",
              "    }\n",
              "  }\n",
              "</style>\n",
              "\n",
              "  <script>\n",
              "    async function quickchart(key) {\n",
              "      const quickchartButtonEl =\n",
              "        document.querySelector('#' + key + ' button');\n",
              "      quickchartButtonEl.disabled = true;  // To prevent multiple clicks.\n",
              "      quickchartButtonEl.classList.add('colab-df-spinner');\n",
              "      try {\n",
              "        const charts = await google.colab.kernel.invokeFunction(\n",
              "            'suggestCharts', [key], {});\n",
              "      } catch (error) {\n",
              "        console.error('Error during call to suggestCharts:', error);\n",
              "      }\n",
              "      quickchartButtonEl.classList.remove('colab-df-spinner');\n",
              "      quickchartButtonEl.classList.add('colab-df-quickchart-complete');\n",
              "    }\n",
              "    (() => {\n",
              "      let quickchartButtonEl =\n",
              "        document.querySelector('#df-9d0bae83-6c2d-46e4-b118-f5192e29c36c button');\n",
              "      quickchartButtonEl.style.display =\n",
              "        google.colab.kernel.accessAllowed ? 'block' : 'none';\n",
              "    })();\n",
              "  </script>\n",
              "</div>\n",
              "    </div>\n",
              "  </div>\n"
            ]
          },
          "metadata": {}
        }
      ]
    },
    {
      "cell_type": "markdown",
      "source": [
        "**Вывод:** Полученные данные показывают анамалию в значении показателя у родителей с 5 детьми. Совсем нет просрочки.Такой результат, возможно, связан с тем, что они брали небольшой кредит и имели достаточный доход для его погашения. Но, поскольку таких семей в выборке всего 9 то, получившийся результат нельзя будет использовать для выводов.  Лучше для данной категории использовать медианное значение процента просрочки от всех не нулевых результатов других категорий вместо полученного значения 0%. Рассматривая остальные величины, мы видим, что минимальное значение просрочки у людей без детей. Затем идет показатель просрочки у семей с 3 детьми. У оставшихся категорий прослеживается закономерность: чем больше детей, тем чаще просрочка."
      ],
      "metadata": {
        "id": "CQTX4hdSja-I"
      },
      "id": "CQTX4hdSja-I"
    },
    {
      "cell_type": "markdown",
      "source": [
        "### Есть ли зависимость между семейным положением и возвратом кредита в срок?"
      ],
      "metadata": {
        "id": "2pY9KXHUkDc7"
      },
      "id": "2pY9KXHUkDc7"
    },
    {
      "cell_type": "code",
      "source": [
        "# выполним группировку по колонке 'family_status', посчитаем сумму эпизодов просрочки по каждой группе\n",
        "grouped_3 = data.groupby('family_status')['debt'].sum()\n",
        "\n",
        "print('ОБЩЕЕ КОЛИЧЕСТВО СЛУЧАЕВ ПРОСРОЧКИ КРЕДИТА В ЗАВИСИМОСТИ ОТ СЕМЕЙНОГО ПОЛОЖЕНИЯ')\n",
        "\n",
        "grouped_3.name = None # уберем служебное описание данных\n",
        "print(grouped_3.to_string(header=False))\n",
        "\n",
        "print() # напечатаем пустую строку для удобного чтения результатов\n",
        "\n",
        "# сделаем группировку по колонке 'family_status', посчитаем количество соответствующих заемщиков в данных\n",
        "grouped_4 = data.groupby('family_status')['debt'].count()\n",
        "\n",
        "print('КОЛИЧЕСТВО ЗАЕМЩИКОВ С СООТВЕТСТВУЮЩИМ СЕМЕЙНЫМ СТАТУСОМ В ПРЕДСТАВЛЕННЫХ ДАННЫХ')\n",
        "\n",
        "print(grouped_4.to_string(header=False))\n",
        "print() # напечатаем пустую строку для удобного чтения результатов\n",
        "\n",
        "# рассчитываем процент. Оставим 4 знака после запятой, а так же отсортируем результат по убыванию\n",
        "result_1 = ((grouped_3 / grouped_4).round(4)).sort_values(ascending=False)\n",
        "\n",
        "formatted_result_1 = result_1.apply(lambda x: '{:.2f}%'.format(x*100)) # выводим результат в процентах с двумя знаками после запятой\n",
        "print('ПРОЦЕНТ ПРОСРОЧКИ ВОЗВРАТА КРЕДИТА В ЗАВИСИМОСТИ ОТ СЕМЕЙНОГО СТАТУСА')\n",
        "\n",
        "print(formatted_result_1.to_string(header=False))\n",
        "\n",
        "# выведем объединенную таблицу\n",
        "combined_grouping = data.groupby('family_status').agg({'debt': ['sum','count']})\n",
        "display(combined_grouping)"
      ],
      "metadata": {
        "colab": {
          "base_uri": "https://localhost:8080/",
          "height": 616
        },
        "id": "Jz_lQTFWkFuH",
        "outputId": "c6be2cfe-6026-4507-b599-7f0d705a7d92"
      },
      "id": "Jz_lQTFWkFuH",
      "execution_count": null,
      "outputs": [
        {
          "output_type": "stream",
          "name": "stdout",
          "text": [
            "ОБЩЕЕ КОЛИЧЕСТВО СЛУЧАЕВ ПРОСРОЧКИ КРЕДИТА В ЗАВИСИМОСТИ ОТ СЕМЕЙНОГО ПОЛОЖЕНИЯ\n",
            "Не женат / не замужем    273\n",
            "в разводе                 84\n",
            "вдовец / вдова            63\n",
            "гражданский брак         385\n",
            "женат / замужем          927\n",
            "\n",
            "КОЛИЧЕСТВО ЗАЕМЩИКОВ С СООТВЕТСТВУЮЩИМ СЕМЕЙНЫМ СТАТУСОМ В ПРЕДСТАВЛЕННЫХ ДАННЫХ\n",
            "Не женат / не замужем     2796\n",
            "в разводе                 1189\n",
            "вдовец / вдова             951\n",
            "гражданский брак          4134\n",
            "женат / замужем          12261\n",
            "\n",
            "ПРОЦЕНТ ПРОСРОЧКИ ВОЗВРАТА КРЕДИТА В ЗАВИСИМОСТИ ОТ СЕМЕЙНОГО СТАТУСА\n",
            "Не женат / не замужем    9.76%\n",
            "гражданский брак         9.31%\n",
            "женат / замужем          7.56%\n",
            "в разводе                7.06%\n",
            "вдовец / вдова           6.62%\n"
          ]
        },
        {
          "output_type": "display_data",
          "data": {
            "text/plain": [
              "                      debt       \n",
              "                       sum  count\n",
              "family_status                    \n",
              "Не женат / не замужем  273   2796\n",
              "в разводе               84   1189\n",
              "вдовец / вдова          63    951\n",
              "гражданский брак       385   4134\n",
              "женат / замужем        927  12261"
            ],
            "text/html": [
              "\n",
              "  <div id=\"df-80112a9f-b66a-40d2-9804-1cb4216bc7f7\" class=\"colab-df-container\">\n",
              "    <div>\n",
              "<style scoped>\n",
              "    .dataframe tbody tr th:only-of-type {\n",
              "        vertical-align: middle;\n",
              "    }\n",
              "\n",
              "    .dataframe tbody tr th {\n",
              "        vertical-align: top;\n",
              "    }\n",
              "\n",
              "    .dataframe thead tr th {\n",
              "        text-align: left;\n",
              "    }\n",
              "\n",
              "    .dataframe thead tr:last-of-type th {\n",
              "        text-align: right;\n",
              "    }\n",
              "</style>\n",
              "<table border=\"1\" class=\"dataframe\">\n",
              "  <thead>\n",
              "    <tr>\n",
              "      <th></th>\n",
              "      <th colspan=\"2\" halign=\"left\">debt</th>\n",
              "    </tr>\n",
              "    <tr>\n",
              "      <th></th>\n",
              "      <th>sum</th>\n",
              "      <th>count</th>\n",
              "    </tr>\n",
              "    <tr>\n",
              "      <th>family_status</th>\n",
              "      <th></th>\n",
              "      <th></th>\n",
              "    </tr>\n",
              "  </thead>\n",
              "  <tbody>\n",
              "    <tr>\n",
              "      <th>Не женат / не замужем</th>\n",
              "      <td>273</td>\n",
              "      <td>2796</td>\n",
              "    </tr>\n",
              "    <tr>\n",
              "      <th>в разводе</th>\n",
              "      <td>84</td>\n",
              "      <td>1189</td>\n",
              "    </tr>\n",
              "    <tr>\n",
              "      <th>вдовец / вдова</th>\n",
              "      <td>63</td>\n",
              "      <td>951</td>\n",
              "    </tr>\n",
              "    <tr>\n",
              "      <th>гражданский брак</th>\n",
              "      <td>385</td>\n",
              "      <td>4134</td>\n",
              "    </tr>\n",
              "    <tr>\n",
              "      <th>женат / замужем</th>\n",
              "      <td>927</td>\n",
              "      <td>12261</td>\n",
              "    </tr>\n",
              "  </tbody>\n",
              "</table>\n",
              "</div>\n",
              "    <div class=\"colab-df-buttons\">\n",
              "\n",
              "  <div class=\"colab-df-container\">\n",
              "    <button class=\"colab-df-convert\" onclick=\"convertToInteractive('df-80112a9f-b66a-40d2-9804-1cb4216bc7f7')\"\n",
              "            title=\"Convert this dataframe to an interactive table.\"\n",
              "            style=\"display:none;\">\n",
              "\n",
              "  <svg xmlns=\"http://www.w3.org/2000/svg\" height=\"24px\" viewBox=\"0 -960 960 960\">\n",
              "    <path d=\"M120-120v-720h720v720H120Zm60-500h600v-160H180v160Zm220 220h160v-160H400v160Zm0 220h160v-160H400v160ZM180-400h160v-160H180v160Zm440 0h160v-160H620v160ZM180-180h160v-160H180v160Zm440 0h160v-160H620v160Z\"/>\n",
              "  </svg>\n",
              "    </button>\n",
              "\n",
              "  <style>\n",
              "    .colab-df-container {\n",
              "      display:flex;\n",
              "      gap: 12px;\n",
              "    }\n",
              "\n",
              "    .colab-df-convert {\n",
              "      background-color: #E8F0FE;\n",
              "      border: none;\n",
              "      border-radius: 50%;\n",
              "      cursor: pointer;\n",
              "      display: none;\n",
              "      fill: #1967D2;\n",
              "      height: 32px;\n",
              "      padding: 0 0 0 0;\n",
              "      width: 32px;\n",
              "    }\n",
              "\n",
              "    .colab-df-convert:hover {\n",
              "      background-color: #E2EBFA;\n",
              "      box-shadow: 0px 1px 2px rgba(60, 64, 67, 0.3), 0px 1px 3px 1px rgba(60, 64, 67, 0.15);\n",
              "      fill: #174EA6;\n",
              "    }\n",
              "\n",
              "    .colab-df-buttons div {\n",
              "      margin-bottom: 4px;\n",
              "    }\n",
              "\n",
              "    [theme=dark] .colab-df-convert {\n",
              "      background-color: #3B4455;\n",
              "      fill: #D2E3FC;\n",
              "    }\n",
              "\n",
              "    [theme=dark] .colab-df-convert:hover {\n",
              "      background-color: #434B5C;\n",
              "      box-shadow: 0px 1px 3px 1px rgba(0, 0, 0, 0.15);\n",
              "      filter: drop-shadow(0px 1px 2px rgba(0, 0, 0, 0.3));\n",
              "      fill: #FFFFFF;\n",
              "    }\n",
              "  </style>\n",
              "\n",
              "    <script>\n",
              "      const buttonEl =\n",
              "        document.querySelector('#df-80112a9f-b66a-40d2-9804-1cb4216bc7f7 button.colab-df-convert');\n",
              "      buttonEl.style.display =\n",
              "        google.colab.kernel.accessAllowed ? 'block' : 'none';\n",
              "\n",
              "      async function convertToInteractive(key) {\n",
              "        const element = document.querySelector('#df-80112a9f-b66a-40d2-9804-1cb4216bc7f7');\n",
              "        const dataTable =\n",
              "          await google.colab.kernel.invokeFunction('convertToInteractive',\n",
              "                                                    [key], {});\n",
              "        if (!dataTable) return;\n",
              "\n",
              "        const docLinkHtml = 'Like what you see? Visit the ' +\n",
              "          '<a target=\"_blank\" href=https://colab.research.google.com/notebooks/data_table.ipynb>data table notebook</a>'\n",
              "          + ' to learn more about interactive tables.';\n",
              "        element.innerHTML = '';\n",
              "        dataTable['output_type'] = 'display_data';\n",
              "        await google.colab.output.renderOutput(dataTable, element);\n",
              "        const docLink = document.createElement('div');\n",
              "        docLink.innerHTML = docLinkHtml;\n",
              "        element.appendChild(docLink);\n",
              "      }\n",
              "    </script>\n",
              "  </div>\n",
              "\n",
              "\n",
              "<div id=\"df-d9501e4b-f4c4-48bd-a11d-357ec3f0b973\">\n",
              "  <button class=\"colab-df-quickchart\" onclick=\"quickchart('df-d9501e4b-f4c4-48bd-a11d-357ec3f0b973')\"\n",
              "            title=\"Suggest charts\"\n",
              "            style=\"display:none;\">\n",
              "\n",
              "<svg xmlns=\"http://www.w3.org/2000/svg\" height=\"24px\"viewBox=\"0 0 24 24\"\n",
              "     width=\"24px\">\n",
              "    <g>\n",
              "        <path d=\"M19 3H5c-1.1 0-2 .9-2 2v14c0 1.1.9 2 2 2h14c1.1 0 2-.9 2-2V5c0-1.1-.9-2-2-2zM9 17H7v-7h2v7zm4 0h-2V7h2v10zm4 0h-2v-4h2v4z\"/>\n",
              "    </g>\n",
              "</svg>\n",
              "  </button>\n",
              "\n",
              "<style>\n",
              "  .colab-df-quickchart {\n",
              "      --bg-color: #E8F0FE;\n",
              "      --fill-color: #1967D2;\n",
              "      --hover-bg-color: #E2EBFA;\n",
              "      --hover-fill-color: #174EA6;\n",
              "      --disabled-fill-color: #AAA;\n",
              "      --disabled-bg-color: #DDD;\n",
              "  }\n",
              "\n",
              "  [theme=dark] .colab-df-quickchart {\n",
              "      --bg-color: #3B4455;\n",
              "      --fill-color: #D2E3FC;\n",
              "      --hover-bg-color: #434B5C;\n",
              "      --hover-fill-color: #FFFFFF;\n",
              "      --disabled-bg-color: #3B4455;\n",
              "      --disabled-fill-color: #666;\n",
              "  }\n",
              "\n",
              "  .colab-df-quickchart {\n",
              "    background-color: var(--bg-color);\n",
              "    border: none;\n",
              "    border-radius: 50%;\n",
              "    cursor: pointer;\n",
              "    display: none;\n",
              "    fill: var(--fill-color);\n",
              "    height: 32px;\n",
              "    padding: 0;\n",
              "    width: 32px;\n",
              "  }\n",
              "\n",
              "  .colab-df-quickchart:hover {\n",
              "    background-color: var(--hover-bg-color);\n",
              "    box-shadow: 0 1px 2px rgba(60, 64, 67, 0.3), 0 1px 3px 1px rgba(60, 64, 67, 0.15);\n",
              "    fill: var(--button-hover-fill-color);\n",
              "  }\n",
              "\n",
              "  .colab-df-quickchart-complete:disabled,\n",
              "  .colab-df-quickchart-complete:disabled:hover {\n",
              "    background-color: var(--disabled-bg-color);\n",
              "    fill: var(--disabled-fill-color);\n",
              "    box-shadow: none;\n",
              "  }\n",
              "\n",
              "  .colab-df-spinner {\n",
              "    border: 2px solid var(--fill-color);\n",
              "    border-color: transparent;\n",
              "    border-bottom-color: var(--fill-color);\n",
              "    animation:\n",
              "      spin 1s steps(1) infinite;\n",
              "  }\n",
              "\n",
              "  @keyframes spin {\n",
              "    0% {\n",
              "      border-color: transparent;\n",
              "      border-bottom-color: var(--fill-color);\n",
              "      border-left-color: var(--fill-color);\n",
              "    }\n",
              "    20% {\n",
              "      border-color: transparent;\n",
              "      border-left-color: var(--fill-color);\n",
              "      border-top-color: var(--fill-color);\n",
              "    }\n",
              "    30% {\n",
              "      border-color: transparent;\n",
              "      border-left-color: var(--fill-color);\n",
              "      border-top-color: var(--fill-color);\n",
              "      border-right-color: var(--fill-color);\n",
              "    }\n",
              "    40% {\n",
              "      border-color: transparent;\n",
              "      border-right-color: var(--fill-color);\n",
              "      border-top-color: var(--fill-color);\n",
              "    }\n",
              "    60% {\n",
              "      border-color: transparent;\n",
              "      border-right-color: var(--fill-color);\n",
              "    }\n",
              "    80% {\n",
              "      border-color: transparent;\n",
              "      border-right-color: var(--fill-color);\n",
              "      border-bottom-color: var(--fill-color);\n",
              "    }\n",
              "    90% {\n",
              "      border-color: transparent;\n",
              "      border-bottom-color: var(--fill-color);\n",
              "    }\n",
              "  }\n",
              "</style>\n",
              "\n",
              "  <script>\n",
              "    async function quickchart(key) {\n",
              "      const quickchartButtonEl =\n",
              "        document.querySelector('#' + key + ' button');\n",
              "      quickchartButtonEl.disabled = true;  // To prevent multiple clicks.\n",
              "      quickchartButtonEl.classList.add('colab-df-spinner');\n",
              "      try {\n",
              "        const charts = await google.colab.kernel.invokeFunction(\n",
              "            'suggestCharts', [key], {});\n",
              "      } catch (error) {\n",
              "        console.error('Error during call to suggestCharts:', error);\n",
              "      }\n",
              "      quickchartButtonEl.classList.remove('colab-df-spinner');\n",
              "      quickchartButtonEl.classList.add('colab-df-quickchart-complete');\n",
              "    }\n",
              "    (() => {\n",
              "      let quickchartButtonEl =\n",
              "        document.querySelector('#df-d9501e4b-f4c4-48bd-a11d-357ec3f0b973 button');\n",
              "      quickchartButtonEl.style.display =\n",
              "        google.colab.kernel.accessAllowed ? 'block' : 'none';\n",
              "    })();\n",
              "  </script>\n",
              "</div>\n",
              "    </div>\n",
              "  </div>\n"
            ]
          },
          "metadata": {}
        }
      ]
    },
    {
      "cell_type": "markdown",
      "source": [
        "**Вывод:** В данной выборке максимальный риск просрочки показали клиенты с семейным статусом 'Не женат / не замужем' . Минимальный выявлен у вдовцов.\n",
        "По результатам можно представить 2 новые категории: люди, которые официально докуминтировали свой статус: женат / замужем, в разводе, вдовец / вдова. И остальные: Не женат / не замужем, гражданский брак. И внутри этих категорий прослеживается тенденция следующего свойства: чем более глубокий опыт семейной жизни имеется у клиентов, тем больше их ответственность в финансовом плане.\n",
        "\n",
        "\n",
        "\n",
        "\n",
        "\n",
        "Нужно отметить, что в категории желательно должно быть не менее 5% от числа выборки. Тогда это 20000*0,05= 1000 человек. Если воспользоваться таким подходом, то можно говорить о том, что выводы о возврате кредита в срок можно делать только по 2 категориям: 'C' с доходом 50001–200000 и 'B' с доходом 200001–1000000. Чтобы осуществить корректные выводы по остальным категориям нам потребуется собрать данные за больший промежуток времени.\n",
        "Пока мы можем констатировать, что чем выше доход, тем выше вероятность возврата кредита в срок."
      ],
      "metadata": {
        "id": "drL2RVuvl5Vm"
      },
      "id": "drL2RVuvl5Vm"
    },
    {
      "cell_type": "markdown",
      "source": [
        "### Как разные цели кредита влияют на его возврат в срок?"
      ],
      "metadata": {
        "id": "aKJ7bw49mGWk"
      },
      "id": "aKJ7bw49mGWk"
    },
    {
      "cell_type": "code",
      "source": [
        "# выполним группировку по колонке 'purpose_category', посчитаем сумму эпизодов просрочки по каждой группе\n",
        "grouped_7 = data.groupby('purpose_category')['debt'].sum()\n",
        "\n",
        "print('ОБЩЕЕ КОЛИЧЕСТВО СЛУЧАЕВ ПРОСРОЧКИ КРЕДИТА В ЗАВИСИМОСТИ ОТ ЦЕЛИ КРЕДИТА')\n",
        "\n",
        "grouped_7.name = None # убираем служебное описание данных\n",
        "\n",
        "print(grouped_7.to_string(header=False))\n",
        "\n",
        "print() # напечатаем пустую строку для удобного чтения результатов\n",
        "\n",
        "# количество соответствующих заемщиков в данных\n",
        "grouped_8 = data.groupby('purpose_category')['debt'].count()\n",
        "\n",
        "print('КОЛИЧЕСТВО ЗАЕМЩИКОВ С СООТВЕТСТВУЮЩЕЙ ЦЕЛЬЮ В ПРЕДСТАВЛЕННЫХ ДАННЫХ')\n",
        "\n",
        "print(grouped_8.to_string(header=False))\n",
        "\n",
        "print()\n",
        "\n",
        "# рассчитаем процент. Оставим 4 знака после запятой, а так же отсортируем результат по убыванию\n",
        "result_3 = ((grouped_7 / grouped_8).round(4)).sort_values(ascending=False)\n",
        "\n",
        "formatted_result_3 = result_3.apply(lambda x: '{:.2f}%'.format(x*100))# выведем результат в процентах с двумя знаками после запятой\n",
        "\n",
        "print('ПРОЦЕНТ ПРОСРОЧКИ ВОЗВРАТА КРЕДИТА В ЗАВИСИМОСТИ ОТ ЦЕЛИ КРЕДИТА')\n",
        "print(formatted_result_3.to_string(header=False))"
      ],
      "metadata": {
        "colab": {
          "base_uri": "https://localhost:8080/"
        },
        "id": "fDlJLkaLxtn-",
        "outputId": "ebf29911-3084-451a-a5a6-84c9984db4d5"
      },
      "id": "fDlJLkaLxtn-",
      "execution_count": null,
      "outputs": [
        {
          "output_type": "stream",
          "name": "stdout",
          "text": [
            "ОБЩЕЕ КОЛИЧЕСТВО СЛУЧАЕВ ПРОСРОЧКИ КРЕДИТА В ЗАВИСИМОСТИ ОТ ЦЕЛИ КРЕДИТА\n",
            "операции с автомобилем      400\n",
            "операции с недвижимостью    780\n",
            "получение образования       369\n",
            "проведение свадьбы          183\n",
            "\n",
            "КОЛИЧЕСТВО ЗАЕМЩИКОВ С СООТВЕТСТВУЮЩЕЙ ЦЕЛЬЮ В ПРЕДСТАВЛЕННЫХ ДАННЫХ\n",
            "операции с автомобилем       4279\n",
            "операции с недвижимостью    10751\n",
            "получение образования        3988\n",
            "проведение свадьбы           2313\n",
            "\n",
            "ПРОЦЕНТ ПРОСРОЧКИ ВОЗВРАТА КРЕДИТА В ЗАВИСИМОСТИ ОТ ЦЕЛИ КРЕДИТА\n",
            "операции с автомобилем      9.35%\n",
            "получение образования       9.25%\n",
            "проведение свадьбы          7.91%\n",
            "операции с недвижимостью    7.26%\n"
          ]
        }
      ]
    },
    {
      "cell_type": "markdown",
      "source": [
        "**Вывод:** Наиболее ответственными в части своевременной оплаты кредита оказались люди, бравшие кредит, связанный с операциями по недвижимости. Наименее ответственными оказались люди, бравшие кредит на операции с автомобилем."
      ],
      "metadata": {
        "id": "AJKLhRNPyfd2"
      },
      "id": "AJKLhRNPyfd2"
    },
    {
      "cell_type": "markdown",
      "source": [
        "## Общий вывод."
      ],
      "metadata": {
        "id": "tgvCwyqSyzrk"
      },
      "id": "tgvCwyqSyzrk"
    },
    {
      "cell_type": "markdown",
      "source": [
        "Первичная обработка данных\n",
        "\n",
        "Первичное изучение предоставленных данных выявило несколько недостатков, часть из которых требовала устранения.\n",
        "\n",
        "в столбцах «days_employed», «total_income» были пропуски\n",
        "в столбце «days_employed» встречаются артефакты — значения, которые не отражают действительность и появились по какой-то ошибке. В частности, отрицательное количество дней трудового стажа или аномально большие значения дней трудового стажа для категорий безработный и пенсионер.\n",
        "в столбце children есть два аномальных значения: -1 и 20 детей.\n",
        "в столбце education содержатся неявные дубликаты - значения, записанные по-разному. С использованием заглавных и строчных букв. В итоге, для получения корректных результатов исследования, на этапе предобработки были выполнены следующие действия:\n",
        "в столбце total_income пропуски заполнили медианным значением по каждому типу из столбца. Медиану взяли чтобы не влияли выбросы.\n",
        "в столбце days_employed все отрицательные значения заменены положительными\n",
        "в столбце children аномальные значения удалили вместе с содержащими их строками\n",
        "в столбце education выявили и удалили неявные дубликаты Для удобного представления и анализа информации была проведена категоризация целей, на которые берется кредит:\n",
        "'операции с автомобилем',\n",
        "'операции с недвижимостью',\n",
        "'проведение свадьбы',\n",
        "'получение образования' А также, клиенты были разделены на категории по доходу:\n",
        "0–30000 — 'E';\n",
        "30001–50000 — 'D';\n",
        "50001–200000 — 'C';\n",
        "200001–1000000 — 'B';\n",
        "1000001 и выше — 'A'.\n",
        "Результаты\n",
        "\n",
        "В результате проведенного исследования выяснены следующие закономерности:\n",
        "\n",
        "- чем больше детей, тем чаще просрочка;\n",
        "- люди, когда-либо бывавшие в браке, реже остаются в долгу по кредиту. Это касается как людей в разводе, так и людей, находящихся в браке сейчас.\n",
        "- чем выше доход, тем выше вероятность возврата кредита в срок.\n",
        "- наиболее ответственными в части своевременной оплаты кредита оказались люди, бравшие кредит, связанный с операциями по недвижимости. Далее расположились такие цели: проведение свадьбы, получение образования. И наименее ответственными оказались люди, бравшие кредит на операции с автомобилем.\n",
        "Портреты хорошего и плохого заемщика:\n",
        "\n",
        "Максимально надежным заемщиком для банка будет человек без детей, вдовец/вдова, имеющий доход высокий доход (200001–1000000), который берет кредит на операции с недвижимостью. В зоне максимального риска заемщики с детьми, которые указали семейный статус как «Не женат / не замужем» или живущие в гражданском браке, имеющие доход ниже или равный 30000, а также имеющие целью кредита операции с автомобилем. Рекомендации по сбору данных и скорингу: Для того чтобы результаты исследования были более точны, необходимо по возможности внести корректировки в методику сбора и фиксации данных, чтобы избежать пропущенных значений и искажения. Сравнивая такие характеристики как доход и количество детей, мы столкнулись с тем, что количество данных в категориях недостаточно для однозначного трактования. По возможности, желательно их увеличить."
      ],
      "metadata": {
        "id": "S9dgTzM5y79Q"
      },
      "id": "S9dgTzM5y79Q"
    }
  ],
  "metadata": {
    "ExecuteTimeLog": [
      {
        "duration": 57,
        "start_time": "2023-03-11T10:34:02.403Z"
      },
      {
        "duration": 7,
        "start_time": "2023-03-11T10:34:39.637Z"
      },
      {
        "duration": 435,
        "start_time": "2023-03-11T10:35:18.147Z"
      },
      {
        "duration": 3,
        "start_time": "2023-03-11T10:35:43.435Z"
      },
      {
        "duration": 340,
        "start_time": "2023-03-11T10:35:43.440Z"
      },
      {
        "duration": 15,
        "start_time": "2023-03-11T10:35:43.782Z"
      },
      {
        "duration": 31,
        "start_time": "2023-03-11T10:35:43.799Z"
      },
      {
        "duration": 18,
        "start_time": "2023-03-11T10:35:43.833Z"
      },
      {
        "duration": 7,
        "start_time": "2023-03-11T10:36:13.720Z"
      },
      {
        "duration": 6,
        "start_time": "2023-03-11T10:36:27.848Z"
      },
      {
        "duration": 11,
        "start_time": "2023-03-11T10:37:00.778Z"
      },
      {
        "duration": 6,
        "start_time": "2023-03-11T10:49:25.156Z"
      },
      {
        "duration": 8,
        "start_time": "2023-03-11T10:52:34.360Z"
      },
      {
        "duration": 8,
        "start_time": "2023-03-11T10:58:05.079Z"
      },
      {
        "duration": 42,
        "start_time": "2023-03-11T11:16:30.545Z"
      },
      {
        "duration": 11,
        "start_time": "2023-03-11T11:16:53.824Z"
      },
      {
        "duration": 44,
        "start_time": "2023-03-11T12:53:57.926Z"
      },
      {
        "duration": 39,
        "start_time": "2023-03-11T12:55:37.129Z"
      },
      {
        "duration": 38,
        "start_time": "2023-03-11T13:25:18.980Z"
      },
      {
        "duration": 7,
        "start_time": "2023-03-11T13:55:37.300Z"
      },
      {
        "duration": 7,
        "start_time": "2023-03-11T13:55:57.010Z"
      },
      {
        "duration": 7,
        "start_time": "2023-03-11T13:57:39.790Z"
      },
      {
        "duration": 8,
        "start_time": "2023-03-11T13:58:16.770Z"
      },
      {
        "duration": 6,
        "start_time": "2023-03-11T14:01:36.250Z"
      },
      {
        "duration": 3,
        "start_time": "2023-03-11T14:03:08.510Z"
      },
      {
        "duration": 8,
        "start_time": "2023-03-11T14:03:56.090Z"
      },
      {
        "duration": 7,
        "start_time": "2023-03-11T14:31:07.929Z"
      },
      {
        "duration": 8,
        "start_time": "2023-03-11T14:32:08.479Z"
      },
      {
        "duration": 3,
        "start_time": "2023-03-11T14:49:16.759Z"
      },
      {
        "duration": 4,
        "start_time": "2023-03-11T14:49:55.920Z"
      },
      {
        "duration": 21,
        "start_time": "2023-03-11T14:56:07.328Z"
      },
      {
        "duration": 8,
        "start_time": "2023-03-11T15:00:09.779Z"
      },
      {
        "duration": 14,
        "start_time": "2023-03-11T15:01:20.017Z"
      },
      {
        "duration": 5,
        "start_time": "2023-03-11T15:07:00.159Z"
      },
      {
        "duration": 43,
        "start_time": "2023-03-11T15:14:24.600Z"
      },
      {
        "duration": 11,
        "start_time": "2023-03-11T15:16:07.519Z"
      },
      {
        "duration": 17,
        "start_time": "2023-03-11T15:21:21.190Z"
      },
      {
        "duration": 18,
        "start_time": "2023-03-11T15:21:44.189Z"
      },
      {
        "duration": 11,
        "start_time": "2023-03-11T15:22:00.809Z"
      },
      {
        "duration": 11,
        "start_time": "2023-03-11T15:22:05.129Z"
      },
      {
        "duration": 11,
        "start_time": "2023-03-11T15:24:12.209Z"
      },
      {
        "duration": 8,
        "start_time": "2023-03-11T15:26:12.379Z"
      },
      {
        "duration": 4,
        "start_time": "2023-03-11T15:26:24.729Z"
      },
      {
        "duration": 66,
        "start_time": "2023-03-12T01:13:34.331Z"
      },
      {
        "duration": 376,
        "start_time": "2023-03-12T01:13:49.896Z"
      },
      {
        "duration": 331,
        "start_time": "2023-03-12T01:13:50.275Z"
      },
      {
        "duration": 10,
        "start_time": "2023-03-12T01:13:50.608Z"
      },
      {
        "duration": 13,
        "start_time": "2023-03-12T01:13:50.620Z"
      },
      {
        "duration": 13,
        "start_time": "2023-03-12T01:13:50.635Z"
      },
      {
        "duration": 42,
        "start_time": "2023-03-12T01:13:50.650Z"
      },
      {
        "duration": 11,
        "start_time": "2023-03-12T01:13:50.695Z"
      },
      {
        "duration": 10,
        "start_time": "2023-03-12T01:13:50.708Z"
      },
      {
        "duration": 4,
        "start_time": "2023-03-12T01:13:50.720Z"
      },
      {
        "duration": 13,
        "start_time": "2023-03-12T01:13:50.726Z"
      },
      {
        "duration": 3,
        "start_time": "2023-03-12T01:13:50.741Z"
      },
      {
        "duration": 64,
        "start_time": "2023-03-12T01:13:50.746Z"
      },
      {
        "duration": 8,
        "start_time": "2023-03-12T01:13:50.811Z"
      },
      {
        "duration": 3,
        "start_time": "2023-03-12T01:14:39.550Z"
      },
      {
        "duration": 75,
        "start_time": "2023-03-12T01:14:39.555Z"
      },
      {
        "duration": 8,
        "start_time": "2023-03-12T01:14:39.631Z"
      },
      {
        "duration": 14,
        "start_time": "2023-03-12T01:14:39.640Z"
      },
      {
        "duration": 9,
        "start_time": "2023-03-12T01:14:39.656Z"
      },
      {
        "duration": 44,
        "start_time": "2023-03-12T01:14:39.666Z"
      },
      {
        "duration": 7,
        "start_time": "2023-03-12T01:14:39.712Z"
      },
      {
        "duration": 10,
        "start_time": "2023-03-12T01:14:39.720Z"
      },
      {
        "duration": 4,
        "start_time": "2023-03-12T01:14:39.731Z"
      },
      {
        "duration": 10,
        "start_time": "2023-03-12T01:14:39.736Z"
      },
      {
        "duration": 3,
        "start_time": "2023-03-12T01:14:39.747Z"
      },
      {
        "duration": 70,
        "start_time": "2023-03-12T01:14:39.751Z"
      },
      {
        "duration": 8,
        "start_time": "2023-03-12T01:14:39.823Z"
      },
      {
        "duration": 3,
        "start_time": "2023-03-12T01:14:39.833Z"
      },
      {
        "duration": 11,
        "start_time": "2023-03-12T01:19:13.329Z"
      },
      {
        "duration": 36,
        "start_time": "2023-03-12T01:21:09.280Z"
      },
      {
        "duration": 27,
        "start_time": "2023-03-12T01:29:53.679Z"
      },
      {
        "duration": 23,
        "start_time": "2023-03-12T01:30:50.779Z"
      },
      {
        "duration": 27,
        "start_time": "2023-03-12T01:32:28.191Z"
      },
      {
        "duration": 40,
        "start_time": "2023-03-12T01:33:05.450Z"
      },
      {
        "duration": 53,
        "start_time": "2023-03-12T01:37:51.123Z"
      },
      {
        "duration": 82,
        "start_time": "2023-03-12T05:46:58.544Z"
      },
      {
        "duration": 77,
        "start_time": "2023-03-12T05:48:12.365Z"
      },
      {
        "duration": 4,
        "start_time": "2023-03-12T05:48:48.284Z"
      },
      {
        "duration": 46,
        "start_time": "2023-03-12T05:48:53.885Z"
      },
      {
        "duration": 465,
        "start_time": "2023-03-12T05:49:12.853Z"
      },
      {
        "duration": 311,
        "start_time": "2023-03-12T05:49:13.321Z"
      },
      {
        "duration": 12,
        "start_time": "2023-03-12T05:49:13.634Z"
      },
      {
        "duration": 18,
        "start_time": "2023-03-12T05:49:13.648Z"
      },
      {
        "duration": 17,
        "start_time": "2023-03-12T05:49:13.668Z"
      },
      {
        "duration": 40,
        "start_time": "2023-03-12T05:49:13.687Z"
      },
      {
        "duration": 9,
        "start_time": "2023-03-12T05:49:13.729Z"
      },
      {
        "duration": 33,
        "start_time": "2023-03-12T05:49:13.740Z"
      },
      {
        "duration": 5,
        "start_time": "2023-03-12T05:49:13.775Z"
      },
      {
        "duration": 14,
        "start_time": "2023-03-12T05:49:13.782Z"
      },
      {
        "duration": 4,
        "start_time": "2023-03-12T05:49:13.798Z"
      },
      {
        "duration": 40,
        "start_time": "2023-03-12T05:49:13.804Z"
      },
      {
        "duration": 12,
        "start_time": "2023-03-12T05:49:13.873Z"
      },
      {
        "duration": 6,
        "start_time": "2023-03-12T05:49:13.887Z"
      },
      {
        "duration": 17,
        "start_time": "2023-03-12T05:49:13.895Z"
      },
      {
        "duration": 20,
        "start_time": "2023-03-12T05:49:13.914Z"
      },
      {
        "duration": 58,
        "start_time": "2023-03-12T05:49:13.936Z"
      },
      {
        "duration": 4,
        "start_time": "2023-03-12T05:49:13.996Z"
      },
      {
        "duration": 339,
        "start_time": "2023-03-12T05:49:14.001Z"
      },
      {
        "duration": 18,
        "start_time": "2023-03-12T05:50:30.313Z"
      },
      {
        "duration": 47,
        "start_time": "2023-03-12T08:51:00.378Z"
      },
      {
        "duration": 8,
        "start_time": "2023-03-12T08:51:13.539Z"
      },
      {
        "duration": 6,
        "start_time": "2023-03-12T08:52:39.120Z"
      },
      {
        "duration": 361,
        "start_time": "2023-03-12T08:53:00.499Z"
      },
      {
        "duration": 144,
        "start_time": "2023-03-12T08:53:00.862Z"
      },
      {
        "duration": 11,
        "start_time": "2023-03-12T08:53:01.007Z"
      },
      {
        "duration": 59,
        "start_time": "2023-03-12T08:53:01.020Z"
      },
      {
        "duration": 71,
        "start_time": "2023-03-12T08:53:01.082Z"
      },
      {
        "duration": 59,
        "start_time": "2023-03-12T08:53:01.155Z"
      },
      {
        "duration": 10,
        "start_time": "2023-03-12T08:53:01.216Z"
      },
      {
        "duration": 20,
        "start_time": "2023-03-12T08:53:01.228Z"
      },
      {
        "duration": 20,
        "start_time": "2023-03-12T08:53:01.250Z"
      },
      {
        "duration": 80,
        "start_time": "2023-03-12T08:53:01.272Z"
      },
      {
        "duration": 46,
        "start_time": "2023-03-12T08:53:01.353Z"
      },
      {
        "duration": 124,
        "start_time": "2023-03-12T08:53:01.401Z"
      },
      {
        "duration": 18,
        "start_time": "2023-03-12T08:53:01.527Z"
      },
      {
        "duration": 16,
        "start_time": "2023-03-12T08:53:01.547Z"
      },
      {
        "duration": 58,
        "start_time": "2023-03-12T08:53:01.565Z"
      },
      {
        "duration": 35,
        "start_time": "2023-03-12T08:53:01.624Z"
      },
      {
        "duration": 34,
        "start_time": "2023-03-12T08:53:01.661Z"
      },
      {
        "duration": 3,
        "start_time": "2023-03-12T08:53:01.697Z"
      },
      {
        "duration": 69,
        "start_time": "2023-03-12T08:53:01.702Z"
      },
      {
        "duration": 9,
        "start_time": "2023-03-12T08:54:43.096Z"
      },
      {
        "duration": 45,
        "start_time": "2023-03-12T08:56:11.938Z"
      },
      {
        "duration": 7,
        "start_time": "2023-03-12T08:56:21.898Z"
      },
      {
        "duration": 10,
        "start_time": "2023-03-12T11:13:11.494Z"
      },
      {
        "duration": 43,
        "start_time": "2023-03-12T11:14:11.706Z"
      },
      {
        "duration": 412,
        "start_time": "2023-03-12T11:14:37.045Z"
      },
      {
        "duration": 292,
        "start_time": "2023-03-12T11:14:37.459Z"
      },
      {
        "duration": 10,
        "start_time": "2023-03-12T11:14:37.752Z"
      },
      {
        "duration": 19,
        "start_time": "2023-03-12T11:14:37.764Z"
      },
      {
        "duration": 24,
        "start_time": "2023-03-12T11:14:37.785Z"
      },
      {
        "duration": 39,
        "start_time": "2023-03-12T11:14:37.810Z"
      },
      {
        "duration": 8,
        "start_time": "2023-03-12T11:14:37.851Z"
      },
      {
        "duration": 26,
        "start_time": "2023-03-12T11:14:37.861Z"
      },
      {
        "duration": 6,
        "start_time": "2023-03-12T11:14:37.889Z"
      },
      {
        "duration": 18,
        "start_time": "2023-03-12T11:14:37.896Z"
      },
      {
        "duration": 7,
        "start_time": "2023-03-12T11:14:37.916Z"
      },
      {
        "duration": 49,
        "start_time": "2023-03-12T11:14:37.924Z"
      },
      {
        "duration": 12,
        "start_time": "2023-03-12T11:14:37.978Z"
      },
      {
        "duration": 14,
        "start_time": "2023-03-12T11:14:37.993Z"
      },
      {
        "duration": 19,
        "start_time": "2023-03-12T11:14:38.009Z"
      },
      {
        "duration": 21,
        "start_time": "2023-03-12T11:14:38.029Z"
      },
      {
        "duration": 52,
        "start_time": "2023-03-12T11:14:38.053Z"
      },
      {
        "duration": 5,
        "start_time": "2023-03-12T11:14:38.107Z"
      },
      {
        "duration": 28,
        "start_time": "2023-03-12T11:14:38.114Z"
      },
      {
        "duration": 17,
        "start_time": "2023-03-12T11:14:38.144Z"
      },
      {
        "duration": 11,
        "start_time": "2023-03-12T11:14:38.164Z"
      },
      {
        "duration": 25,
        "start_time": "2023-03-12T11:14:38.177Z"
      },
      {
        "duration": 8,
        "start_time": "2023-03-12T11:14:43.124Z"
      },
      {
        "duration": 7,
        "start_time": "2023-03-12T11:19:21.427Z"
      }
    ],
    "colab": {
      "provenance": []
    },
    "kernelspec": {
      "display_name": "Python 3 (ipykernel)",
      "language": "python",
      "name": "python3"
    },
    "language_info": {
      "codemirror_mode": {
        "name": "ipython",
        "version": 3
      },
      "file_extension": ".py",
      "mimetype": "text/x-python",
      "name": "python",
      "nbconvert_exporter": "python",
      "pygments_lexer": "ipython3",
      "version": "3.9.5"
    },
    "toc": {
      "base_numbering": 1,
      "nav_menu": {},
      "number_sections": true,
      "sideBar": true,
      "skip_h1_title": true,
      "title_cell": "Table of Contents",
      "title_sidebar": "Contents",
      "toc_cell": false,
      "toc_position": {},
      "toc_section_display": true,
      "toc_window_display": false
    }
  },
  "nbformat": 4,
  "nbformat_minor": 5
}