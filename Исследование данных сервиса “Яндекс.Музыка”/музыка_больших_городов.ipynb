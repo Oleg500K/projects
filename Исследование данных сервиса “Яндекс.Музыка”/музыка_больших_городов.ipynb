{
  "cells": [
    {
      "cell_type": "markdown",
      "metadata": {
        "deletable": false,
        "editable": false,
        "id": "E0vqbgi9ay0H"
      },
      "source": [
        "# Проект Яндекс.Музыка"
      ]
    },
    {
      "cell_type": "markdown",
      "metadata": {
        "deletable": false,
        "editable": false,
        "id": "VUC88oWjTJw2"
      },
      "source": [
        "Задача проекта заключается в анализе данных пользователей Яндекс Музыки и сравнением их поведения.\n",
        "\n",
        "**Цель исследования** — проверить три гипотезы:\n",
        "\n",
        "1. Активность пользователей зависит от дня недели. Причём в Москве и Петербурге это проявляется по-разному.\n",
        "2. В понедельник утром в Москве преобладают одни жанры, а в Петербурге — другие. Так же и вечером пятницы преобладают разные жанры — в зависимости от города.\n",
        "3. Москва и Петербург предпочитают разные жанры музыки. В Москве чаще слушают поп-музыку, в Петербурге — русский рэп.\n",
        "\n",
        "**Ход исследования**\n",
        "\n",
        "Данные нужно получить из файла `yandex_music_project.csv`. О качестве данных ничего не известно. Поэтому перед проверкой гипотез понадобится провести предобработку.\n",
        "\n",
        "Нужно проверить данные на ошибки и оценить их влияние на исследование. Затем,  исправить самые критичные ошибки данных.\n",
        "\n",
        "Таким образом, исследование пройдёт в три этапа:\n",
        "\n",
        " 1. Обзор данных.\n",
        " 2. Предобработка данных.\n",
        " 3. Проверка гипотез.\n",
        "\n"
      ]
    },
    {
      "cell_type": "code",
      "source": [
        "from google.colab import drive\n",
        "drive.mount('/content/drive')"
      ],
      "metadata": {
        "colab": {
          "base_uri": "https://localhost:8080/"
        },
        "id": "wjo1GO_tS8I3",
        "outputId": "d7473fb1-c74a-4da9-995a-779c988ecc7b"
      },
      "execution_count": null,
      "outputs": [
        {
          "output_type": "stream",
          "name": "stdout",
          "text": [
            ""
          ]
        }
      ]
    },
    {
      "cell_type": "markdown",
      "metadata": {
        "deletable": false,
        "editable": false,
        "id": "Ml1hmfXC_Zcs"
      },
      "source": [
        "## Обзор данных\n",
        "\n",
        "Составим первое представление о данных Яндекс Музыки.\n",
        "\n",
        "\n"
      ]
    },
    {
      "cell_type": "code",
      "execution_count": null,
      "metadata": {
        "deletable": false,
        "id": "AXN7PHPN_Zcs"
      },
      "outputs": [],
      "source": [
        "import pandas as pd # импорт библиотеки pandas"
      ]
    },
    {
      "cell_type": "code",
      "execution_count": null,
      "metadata": {
        "deletable": false,
        "id": "fFVu7vqh_Zct"
      },
      "outputs": [],
      "source": [
        "df = pd.read_csv('/content/drive/MyDrive/Colab Notebooks/Practicum_project/Проекты_Яндекс_Практикум/Музыка больших городов/yandex_music_project.csv') # чтение файла с данными и сохранение в df"
      ]
    },
    {
      "cell_type": "code",
      "execution_count": null,
      "metadata": {
        "deletable": false,
        "id": "oWTVX3gW_Zct",
        "colab": {
          "base_uri": "https://localhost:8080/",
          "height": 363
        },
        "outputId": "f5c28f62-f5fb-429f-bc27-4713ded10abf"
      },
      "outputs": [
        {
          "output_type": "execute_result",
          "data": {
            "text/plain": [
              "     userID                        Track            artist   genre  \\\n",
              "0  FFB692EC            Kamigata To Boots  The Mass Missile    rock   \n",
              "1  55204538  Delayed Because of Accident  Andreas Rönnberg    rock   \n",
              "2    20EC38            Funiculì funiculà       Mario Lanza     pop   \n",
              "3  A3DD03C9        Dragons in the Sunset        Fire + Ice    folk   \n",
              "4  E2DC1FAE                  Soul People        Space Echo   dance   \n",
              "5  842029A1                    Преданная         IMPERVTOR  rusrap   \n",
              "6  4CB90AA5                         True      Roman Messer   dance   \n",
              "7  F03E1C1F             Feeling This Way   Polina Griffith   dance   \n",
              "8  8FA1D3BE     И вновь продолжается бой               NaN  ruspop   \n",
              "9  E772D5C0                    Pessimist               NaN   dance   \n",
              "\n",
              "             City        time        Day  \n",
              "0  Saint-Petersburg  20:28:33  Wednesday  \n",
              "1            Moscow  14:07:09     Friday  \n",
              "2  Saint-Petersburg  20:58:07  Wednesday  \n",
              "3  Saint-Petersburg  08:37:09     Monday  \n",
              "4            Moscow  08:34:34     Monday  \n",
              "5  Saint-Petersburg  13:09:41     Friday  \n",
              "6            Moscow  13:00:07  Wednesday  \n",
              "7            Moscow  20:47:49  Wednesday  \n",
              "8            Moscow  09:17:40     Friday  \n",
              "9  Saint-Petersburg  21:20:49  Wednesday  "
            ],
            "text/html": [
              "\n",
              "  <div id=\"df-21691d33-a8bd-4886-9759-650fe1c3b184\" class=\"colab-df-container\">\n",
              "    <div>\n",
              "<style scoped>\n",
              "    .dataframe tbody tr th:only-of-type {\n",
              "        vertical-align: middle;\n",
              "    }\n",
              "\n",
              "    .dataframe tbody tr th {\n",
              "        vertical-align: top;\n",
              "    }\n",
              "\n",
              "    .dataframe thead th {\n",
              "        text-align: right;\n",
              "    }\n",
              "</style>\n",
              "<table border=\"1\" class=\"dataframe\">\n",
              "  <thead>\n",
              "    <tr style=\"text-align: right;\">\n",
              "      <th></th>\n",
              "      <th>userID</th>\n",
              "      <th>Track</th>\n",
              "      <th>artist</th>\n",
              "      <th>genre</th>\n",
              "      <th>City</th>\n",
              "      <th>time</th>\n",
              "      <th>Day</th>\n",
              "    </tr>\n",
              "  </thead>\n",
              "  <tbody>\n",
              "    <tr>\n",
              "      <th>0</th>\n",
              "      <td>FFB692EC</td>\n",
              "      <td>Kamigata To Boots</td>\n",
              "      <td>The Mass Missile</td>\n",
              "      <td>rock</td>\n",
              "      <td>Saint-Petersburg</td>\n",
              "      <td>20:28:33</td>\n",
              "      <td>Wednesday</td>\n",
              "    </tr>\n",
              "    <tr>\n",
              "      <th>1</th>\n",
              "      <td>55204538</td>\n",
              "      <td>Delayed Because of Accident</td>\n",
              "      <td>Andreas Rönnberg</td>\n",
              "      <td>rock</td>\n",
              "      <td>Moscow</td>\n",
              "      <td>14:07:09</td>\n",
              "      <td>Friday</td>\n",
              "    </tr>\n",
              "    <tr>\n",
              "      <th>2</th>\n",
              "      <td>20EC38</td>\n",
              "      <td>Funiculì funiculà</td>\n",
              "      <td>Mario Lanza</td>\n",
              "      <td>pop</td>\n",
              "      <td>Saint-Petersburg</td>\n",
              "      <td>20:58:07</td>\n",
              "      <td>Wednesday</td>\n",
              "    </tr>\n",
              "    <tr>\n",
              "      <th>3</th>\n",
              "      <td>A3DD03C9</td>\n",
              "      <td>Dragons in the Sunset</td>\n",
              "      <td>Fire + Ice</td>\n",
              "      <td>folk</td>\n",
              "      <td>Saint-Petersburg</td>\n",
              "      <td>08:37:09</td>\n",
              "      <td>Monday</td>\n",
              "    </tr>\n",
              "    <tr>\n",
              "      <th>4</th>\n",
              "      <td>E2DC1FAE</td>\n",
              "      <td>Soul People</td>\n",
              "      <td>Space Echo</td>\n",
              "      <td>dance</td>\n",
              "      <td>Moscow</td>\n",
              "      <td>08:34:34</td>\n",
              "      <td>Monday</td>\n",
              "    </tr>\n",
              "    <tr>\n",
              "      <th>5</th>\n",
              "      <td>842029A1</td>\n",
              "      <td>Преданная</td>\n",
              "      <td>IMPERVTOR</td>\n",
              "      <td>rusrap</td>\n",
              "      <td>Saint-Petersburg</td>\n",
              "      <td>13:09:41</td>\n",
              "      <td>Friday</td>\n",
              "    </tr>\n",
              "    <tr>\n",
              "      <th>6</th>\n",
              "      <td>4CB90AA5</td>\n",
              "      <td>True</td>\n",
              "      <td>Roman Messer</td>\n",
              "      <td>dance</td>\n",
              "      <td>Moscow</td>\n",
              "      <td>13:00:07</td>\n",
              "      <td>Wednesday</td>\n",
              "    </tr>\n",
              "    <tr>\n",
              "      <th>7</th>\n",
              "      <td>F03E1C1F</td>\n",
              "      <td>Feeling This Way</td>\n",
              "      <td>Polina Griffith</td>\n",
              "      <td>dance</td>\n",
              "      <td>Moscow</td>\n",
              "      <td>20:47:49</td>\n",
              "      <td>Wednesday</td>\n",
              "    </tr>\n",
              "    <tr>\n",
              "      <th>8</th>\n",
              "      <td>8FA1D3BE</td>\n",
              "      <td>И вновь продолжается бой</td>\n",
              "      <td>NaN</td>\n",
              "      <td>ruspop</td>\n",
              "      <td>Moscow</td>\n",
              "      <td>09:17:40</td>\n",
              "      <td>Friday</td>\n",
              "    </tr>\n",
              "    <tr>\n",
              "      <th>9</th>\n",
              "      <td>E772D5C0</td>\n",
              "      <td>Pessimist</td>\n",
              "      <td>NaN</td>\n",
              "      <td>dance</td>\n",
              "      <td>Saint-Petersburg</td>\n",
              "      <td>21:20:49</td>\n",
              "      <td>Wednesday</td>\n",
              "    </tr>\n",
              "  </tbody>\n",
              "</table>\n",
              "</div>\n",
              "    <div class=\"colab-df-buttons\">\n",
              "\n",
              "  <div class=\"colab-df-container\">\n",
              "    <button class=\"colab-df-convert\" onclick=\"convertToInteractive('df-21691d33-a8bd-4886-9759-650fe1c3b184')\"\n",
              "            title=\"Convert this dataframe to an interactive table.\"\n",
              "            style=\"display:none;\">\n",
              "\n",
              "  <svg xmlns=\"http://www.w3.org/2000/svg\" height=\"24px\" viewBox=\"0 -960 960 960\">\n",
              "    <path d=\"M120-120v-720h720v720H120Zm60-500h600v-160H180v160Zm220 220h160v-160H400v160Zm0 220h160v-160H400v160ZM180-400h160v-160H180v160Zm440 0h160v-160H620v160ZM180-180h160v-160H180v160Zm440 0h160v-160H620v160Z\"/>\n",
              "  </svg>\n",
              "    </button>\n",
              "\n",
              "  <style>\n",
              "    .colab-df-container {\n",
              "      display:flex;\n",
              "      gap: 12px;\n",
              "    }\n",
              "\n",
              "    .colab-df-convert {\n",
              "      background-color: #E8F0FE;\n",
              "      border: none;\n",
              "      border-radius: 50%;\n",
              "      cursor: pointer;\n",
              "      display: none;\n",
              "      fill: #1967D2;\n",
              "      height: 32px;\n",
              "      padding: 0 0 0 0;\n",
              "      width: 32px;\n",
              "    }\n",
              "\n",
              "    .colab-df-convert:hover {\n",
              "      background-color: #E2EBFA;\n",
              "      box-shadow: 0px 1px 2px rgba(60, 64, 67, 0.3), 0px 1px 3px 1px rgba(60, 64, 67, 0.15);\n",
              "      fill: #174EA6;\n",
              "    }\n",
              "\n",
              "    .colab-df-buttons div {\n",
              "      margin-bottom: 4px;\n",
              "    }\n",
              "\n",
              "    [theme=dark] .colab-df-convert {\n",
              "      background-color: #3B4455;\n",
              "      fill: #D2E3FC;\n",
              "    }\n",
              "\n",
              "    [theme=dark] .colab-df-convert:hover {\n",
              "      background-color: #434B5C;\n",
              "      box-shadow: 0px 1px 3px 1px rgba(0, 0, 0, 0.15);\n",
              "      filter: drop-shadow(0px 1px 2px rgba(0, 0, 0, 0.3));\n",
              "      fill: #FFFFFF;\n",
              "    }\n",
              "  </style>\n",
              "\n",
              "    <script>\n",
              "      const buttonEl =\n",
              "        document.querySelector('#df-21691d33-a8bd-4886-9759-650fe1c3b184 button.colab-df-convert');\n",
              "      buttonEl.style.display =\n",
              "        google.colab.kernel.accessAllowed ? 'block' : 'none';\n",
              "\n",
              "      async function convertToInteractive(key) {\n",
              "        const element = document.querySelector('#df-21691d33-a8bd-4886-9759-650fe1c3b184');\n",
              "        const dataTable =\n",
              "          await google.colab.kernel.invokeFunction('convertToInteractive',\n",
              "                                                    [key], {});\n",
              "        if (!dataTable) return;\n",
              "\n",
              "        const docLinkHtml = 'Like what you see? Visit the ' +\n",
              "          '<a target=\"_blank\" href=https://colab.research.google.com/notebooks/data_table.ipynb>data table notebook</a>'\n",
              "          + ' to learn more about interactive tables.';\n",
              "        element.innerHTML = '';\n",
              "        dataTable['output_type'] = 'display_data';\n",
              "        await google.colab.output.renderOutput(dataTable, element);\n",
              "        const docLink = document.createElement('div');\n",
              "        docLink.innerHTML = docLinkHtml;\n",
              "        element.appendChild(docLink);\n",
              "      }\n",
              "    </script>\n",
              "  </div>\n",
              "\n",
              "\n",
              "<div id=\"df-95752cea-95b4-4dba-80df-e65d327143fb\">\n",
              "  <button class=\"colab-df-quickchart\" onclick=\"quickchart('df-95752cea-95b4-4dba-80df-e65d327143fb')\"\n",
              "            title=\"Suggest charts\"\n",
              "            style=\"display:none;\">\n",
              "\n",
              "<svg xmlns=\"http://www.w3.org/2000/svg\" height=\"24px\"viewBox=\"0 0 24 24\"\n",
              "     width=\"24px\">\n",
              "    <g>\n",
              "        <path d=\"M19 3H5c-1.1 0-2 .9-2 2v14c0 1.1.9 2 2 2h14c1.1 0 2-.9 2-2V5c0-1.1-.9-2-2-2zM9 17H7v-7h2v7zm4 0h-2V7h2v10zm4 0h-2v-4h2v4z\"/>\n",
              "    </g>\n",
              "</svg>\n",
              "  </button>\n",
              "\n",
              "<style>\n",
              "  .colab-df-quickchart {\n",
              "      --bg-color: #E8F0FE;\n",
              "      --fill-color: #1967D2;\n",
              "      --hover-bg-color: #E2EBFA;\n",
              "      --hover-fill-color: #174EA6;\n",
              "      --disabled-fill-color: #AAA;\n",
              "      --disabled-bg-color: #DDD;\n",
              "  }\n",
              "\n",
              "  [theme=dark] .colab-df-quickchart {\n",
              "      --bg-color: #3B4455;\n",
              "      --fill-color: #D2E3FC;\n",
              "      --hover-bg-color: #434B5C;\n",
              "      --hover-fill-color: #FFFFFF;\n",
              "      --disabled-bg-color: #3B4455;\n",
              "      --disabled-fill-color: #666;\n",
              "  }\n",
              "\n",
              "  .colab-df-quickchart {\n",
              "    background-color: var(--bg-color);\n",
              "    border: none;\n",
              "    border-radius: 50%;\n",
              "    cursor: pointer;\n",
              "    display: none;\n",
              "    fill: var(--fill-color);\n",
              "    height: 32px;\n",
              "    padding: 0;\n",
              "    width: 32px;\n",
              "  }\n",
              "\n",
              "  .colab-df-quickchart:hover {\n",
              "    background-color: var(--hover-bg-color);\n",
              "    box-shadow: 0 1px 2px rgba(60, 64, 67, 0.3), 0 1px 3px 1px rgba(60, 64, 67, 0.15);\n",
              "    fill: var(--button-hover-fill-color);\n",
              "  }\n",
              "\n",
              "  .colab-df-quickchart-complete:disabled,\n",
              "  .colab-df-quickchart-complete:disabled:hover {\n",
              "    background-color: var(--disabled-bg-color);\n",
              "    fill: var(--disabled-fill-color);\n",
              "    box-shadow: none;\n",
              "  }\n",
              "\n",
              "  .colab-df-spinner {\n",
              "    border: 2px solid var(--fill-color);\n",
              "    border-color: transparent;\n",
              "    border-bottom-color: var(--fill-color);\n",
              "    animation:\n",
              "      spin 1s steps(1) infinite;\n",
              "  }\n",
              "\n",
              "  @keyframes spin {\n",
              "    0% {\n",
              "      border-color: transparent;\n",
              "      border-bottom-color: var(--fill-color);\n",
              "      border-left-color: var(--fill-color);\n",
              "    }\n",
              "    20% {\n",
              "      border-color: transparent;\n",
              "      border-left-color: var(--fill-color);\n",
              "      border-top-color: var(--fill-color);\n",
              "    }\n",
              "    30% {\n",
              "      border-color: transparent;\n",
              "      border-left-color: var(--fill-color);\n",
              "      border-top-color: var(--fill-color);\n",
              "      border-right-color: var(--fill-color);\n",
              "    }\n",
              "    40% {\n",
              "      border-color: transparent;\n",
              "      border-right-color: var(--fill-color);\n",
              "      border-top-color: var(--fill-color);\n",
              "    }\n",
              "    60% {\n",
              "      border-color: transparent;\n",
              "      border-right-color: var(--fill-color);\n",
              "    }\n",
              "    80% {\n",
              "      border-color: transparent;\n",
              "      border-right-color: var(--fill-color);\n",
              "      border-bottom-color: var(--fill-color);\n",
              "    }\n",
              "    90% {\n",
              "      border-color: transparent;\n",
              "      border-bottom-color: var(--fill-color);\n",
              "    }\n",
              "  }\n",
              "</style>\n",
              "\n",
              "  <script>\n",
              "    async function quickchart(key) {\n",
              "      const quickchartButtonEl =\n",
              "        document.querySelector('#' + key + ' button');\n",
              "      quickchartButtonEl.disabled = true;  // To prevent multiple clicks.\n",
              "      quickchartButtonEl.classList.add('colab-df-spinner');\n",
              "      try {\n",
              "        const charts = await google.colab.kernel.invokeFunction(\n",
              "            'suggestCharts', [key], {});\n",
              "      } catch (error) {\n",
              "        console.error('Error during call to suggestCharts:', error);\n",
              "      }\n",
              "      quickchartButtonEl.classList.remove('colab-df-spinner');\n",
              "      quickchartButtonEl.classList.add('colab-df-quickchart-complete');\n",
              "    }\n",
              "    (() => {\n",
              "      let quickchartButtonEl =\n",
              "        document.querySelector('#df-95752cea-95b4-4dba-80df-e65d327143fb button');\n",
              "      quickchartButtonEl.style.display =\n",
              "        google.colab.kernel.accessAllowed ? 'block' : 'none';\n",
              "    })();\n",
              "  </script>\n",
              "</div>\n",
              "    </div>\n",
              "  </div>\n"
            ]
          },
          "metadata": {},
          "execution_count": 6
        }
      ],
      "source": [
        "df.head(10) # получение первых 10 строк таблицы df"
      ]
    },
    {
      "cell_type": "code",
      "execution_count": null,
      "metadata": {
        "deletable": false,
        "id": "DSf2kIb-_Zct",
        "colab": {
          "base_uri": "https://localhost:8080/"
        },
        "outputId": "e9fb8f55-9754-45aa-de42-d11875fc342f"
      },
      "outputs": [
        {
          "output_type": "stream",
          "name": "stdout",
          "text": [
            "<class 'pandas.core.frame.DataFrame'>\n",
            "RangeIndex: 65079 entries, 0 to 65078\n",
            "Data columns (total 7 columns):\n",
            " #   Column    Non-Null Count  Dtype \n",
            "---  ------    --------------  ----- \n",
            " 0     userID  65079 non-null  object\n",
            " 1   Track     63848 non-null  object\n",
            " 2   artist    57876 non-null  object\n",
            " 3   genre     63881 non-null  object\n",
            " 4     City    65079 non-null  object\n",
            " 5   time      65079 non-null  object\n",
            " 6   Day       65079 non-null  object\n",
            "dtypes: object(7)\n",
            "memory usage: 3.5+ MB\n"
          ]
        }
      ],
      "source": [
        "df.info() # получение общей информации о данных в таблице df"
      ]
    },
    {
      "cell_type": "markdown",
      "metadata": {
        "deletable": false,
        "editable": false,
        "id": "TaQ2Iwbr_Zct"
      },
      "source": [
        "Итак, в таблице семь столбцов. Тип данных во всех столбцах — `object`.\n",
        "\n",
        "Согласно документации к данным:\n",
        "* `userID` — идентификатор пользователя;\n",
        "* `Track` — название трека;  \n",
        "* `artist` — имя исполнителя;\n",
        "* `genre` — название жанра;\n",
        "* `City` — город пользователя;\n",
        "* `time` — время начала прослушивания;\n",
        "* `Day` — день недели.\n",
        "\n",
        "Количество значений в столбцах различается. Значит, в данных есть пропущенные значения."
      ]
    },
    {
      "cell_type": "markdown",
      "metadata": {
        "deletable": false,
        "editable": false,
        "id": "4P0UCWzswgEm",
        "tags": [
          "start_task"
        ]
      },
      "source": [
        "***Описание данных.***\n",
        "\n",
        "В названиях колонок мы видим, что строчные буквы сочетаются с прописными, а так же видим наличие пробелов."
      ]
    },
    {
      "cell_type": "markdown",
      "metadata": {
        "deletable": false,
        "editable": false,
        "id": "SjYF6Ub9_Zct"
      },
      "source": [
        "## Предобработка данных\n",
        "Исправим обнаруженные недостатки. Затем проверим данные на дубликаты."
      ]
    },
    {
      "cell_type": "markdown",
      "metadata": {
        "deletable": false,
        "editable": false,
        "id": "dIaKXr29_Zct",
        "tags": [
          "start_task"
        ]
      },
      "source": [
        "### Стиль заголовков\n"
      ]
    },
    {
      "cell_type": "code",
      "execution_count": null,
      "metadata": {
        "deletable": false,
        "id": "oKOTdF_Q_Zct",
        "colab": {
          "base_uri": "https://localhost:8080/"
        },
        "outputId": "218bbc93-4f64-4554-9fc5-2d01e29c5833"
      },
      "outputs": [
        {
          "output_type": "execute_result",
          "data": {
            "text/plain": [
              "Index(['  userID', 'Track', 'artist', 'genre', '  City  ', 'time', 'Day'], dtype='object')"
            ]
          },
          "metadata": {},
          "execution_count": 9
        }
      ],
      "source": [
        "df.columns # перечень названий столбцов таблицы df"
      ]
    },
    {
      "cell_type": "markdown",
      "metadata": {
        "deletable": false,
        "editable": false,
        "id": "zj5534cv_Zct",
        "tags": [
          "start_task"
        ]
      },
      "source": [
        "***Приведем названия в соответствие с хорошим стилем:***\n",
        "\n",
        "Для этого переименуем колонки так:\n",
        "* `'  userID'` → `'user_id'`;\n",
        "* `'Track'` → `'track'`;\n",
        "* `'  City  '` → `'city'`;\n",
        "* `'Day'` → `'day'`."
      ]
    },
    {
      "cell_type": "code",
      "execution_count": null,
      "metadata": {
        "deletable": false,
        "id": "ISlFqs5y_Zct"
      },
      "outputs": [],
      "source": [
        "df = df.rename(\n",
        "    columns={\n",
        "        '  userID': 'user_id',\n",
        "        'Track': 'track',\n",
        "        '  City  ': 'city',\n",
        "        'Day': 'day'\n",
        "   }\n",
        ") # переименование столбцов"
      ]
    },
    {
      "cell_type": "markdown",
      "metadata": {
        "deletable": false,
        "editable": false,
        "id": "1dqbh00J_Zct",
        "tags": [
          "start_task"
        ]
      },
      "source": [
        "Проверим результат. Для этого ещё раз выведем на экран названия столбцов:"
      ]
    },
    {
      "cell_type": "code",
      "execution_count": null,
      "metadata": {
        "deletable": false,
        "id": "d4NOAmTW_Zct",
        "colab": {
          "base_uri": "https://localhost:8080/"
        },
        "outputId": "ea487310-3c4d-42bd-f2ff-798dc83f1982"
      },
      "outputs": [
        {
          "output_type": "execute_result",
          "data": {
            "text/plain": [
              "Index(['user_id', 'track', 'artist', 'genre', 'city', 'time', 'day'], dtype='object')"
            ]
          },
          "metadata": {},
          "execution_count": 11
        }
      ],
      "source": [
        "df.columns # проверка результатов - перечень названий столбцов"
      ]
    },
    {
      "cell_type": "markdown",
      "metadata": {
        "deletable": false,
        "editable": false,
        "id": "5ISfbcfY_Zct",
        "tags": [
          "start_task"
        ]
      },
      "source": [
        "### Пропуски значений\n",
        "\n",
        "Посчитаем, сколько в таблице пропущенных значений:"
      ]
    },
    {
      "cell_type": "code",
      "execution_count": null,
      "metadata": {
        "deletable": false,
        "id": "RskX29qr_Zct",
        "colab": {
          "base_uri": "https://localhost:8080/"
        },
        "outputId": "2b24ed47-92a5-45c9-980f-1fdbc8c666c3"
      },
      "outputs": [
        {
          "output_type": "execute_result",
          "data": {
            "text/plain": [
              "user_id       0\n",
              "track      1231\n",
              "artist     7203\n",
              "genre      1198\n",
              "city          0\n",
              "time          0\n",
              "day           0\n",
              "dtype: int64"
            ]
          },
          "metadata": {},
          "execution_count": 12
        }
      ],
      "source": [
        "df.isna().sum() # подсчёт пропусков"
      ]
    },
    {
      "cell_type": "markdown",
      "metadata": {
        "deletable": false,
        "editable": false,
        "id": "qubhgnlO_Zct"
      },
      "source": [
        "Нас интересует активность пользоватей и жанры. Поэтому пропуски в `track` и `artist` для нас не важны и мы заменим их явными обозначениями.\n",
        "\n",
        "Пропуски в `genre` могут помешать сравнению музыкальных вкусов в Москве и Санкт-Петербурге. Поэтому мы так же заменим их явными значениями, и попробуем оценить насколько такое решение будет влиять на наш вывод."
      ]
    },
    {
      "cell_type": "markdown",
      "metadata": {
        "deletable": false,
        "editable": false,
        "id": "fSv2laPA_Zct",
        "tags": [
          "start_task"
        ]
      },
      "source": [
        "Произведем замену в столбцах `track`, `artist` и `genre` на строку `'unknown'`. Для этого создадим список `columns_to_replace`, переберем его элементы циклом `for` и для каждого столбца выполним замену пропущенных значений:"
      ]
    },
    {
      "cell_type": "code",
      "execution_count": null,
      "metadata": {
        "deletable": false,
        "id": "KplB5qWs_Zct"
      },
      "outputs": [],
      "source": [
        "columns_to_replace = ['track', 'artist', 'genre'] # перебор названий столбцов в цикле и замена пропущенных значений на 'unknown'\n",
        "for column in columns_to_replace:\n",
        "    df[column] = df[column].fillna('unknown')"
      ]
    },
    {
      "cell_type": "markdown",
      "metadata": {
        "deletable": false,
        "editable": false,
        "id": "Ilsm-MZo_Zct",
        "tags": [
          "start_task"
        ]
      },
      "source": [
        "Убедимся, что в таблице не осталось пропусков. Для этого ещё раз посчитаем пропущенные значения."
      ]
    },
    {
      "cell_type": "code",
      "execution_count": null,
      "metadata": {
        "deletable": false,
        "id": "Tq4nYRX4_Zct",
        "colab": {
          "base_uri": "https://localhost:8080/"
        },
        "outputId": "9279a592-4f11-49d2-c0b6-7946e6856f10"
      },
      "outputs": [
        {
          "output_type": "execute_result",
          "data": {
            "text/plain": [
              "user_id    0\n",
              "track      0\n",
              "artist     0\n",
              "genre      0\n",
              "city       0\n",
              "time       0\n",
              "day        0\n",
              "dtype: int64"
            ]
          },
          "metadata": {},
          "execution_count": 14
        }
      ],
      "source": [
        "df.isna().sum() # подсчёт пропусков"
      ]
    },
    {
      "cell_type": "markdown",
      "metadata": {
        "deletable": false,
        "editable": false,
        "id": "BWKRtBJ3_Zct",
        "tags": [
          "start_task"
        ]
      },
      "source": [
        "### Дубликаты\n",
        "\n",
        "Посчитаем явные дубликаты в таблице одной командой:"
      ]
    },
    {
      "cell_type": "code",
      "execution_count": null,
      "metadata": {
        "deletable": false,
        "id": "36eES_S0_Zct",
        "colab": {
          "base_uri": "https://localhost:8080/"
        },
        "outputId": "13934ec1-43c2-4629-fc13-fd3d0383f9f5"
      },
      "outputs": [
        {
          "output_type": "execute_result",
          "data": {
            "text/plain": [
              "3826"
            ]
          },
          "metadata": {},
          "execution_count": 15
        }
      ],
      "source": [
        "df.duplicated().sum() # подсчёт явных дубликатов"
      ]
    },
    {
      "cell_type": "markdown",
      "metadata": {
        "deletable": false,
        "editable": false,
        "id": "Ot25h6XR_Zct",
        "tags": [
          "start_task"
        ]
      },
      "source": [
        "Удалим явные дубликаты:"
      ]
    },
    {
      "cell_type": "code",
      "execution_count": null,
      "metadata": {
        "deletable": false,
        "id": "exFHq6tt_Zct"
      },
      "outputs": [],
      "source": [
        "df = df.drop_duplicates() # удаление явных дубликатов"
      ]
    },
    {
      "cell_type": "markdown",
      "metadata": {
        "deletable": false,
        "editable": false,
        "id": "Im2YwBEG_Zct",
        "tags": [
          "start_task"
        ]
      },
      "source": [
        "Убедимся в том, что нам удалось избавится от дубликатов"
      ]
    },
    {
      "cell_type": "code",
      "execution_count": null,
      "metadata": {
        "deletable": false,
        "id": "-8PuNWQ0_Zct",
        "colab": {
          "base_uri": "https://localhost:8080/"
        },
        "outputId": "c0a344e9-2cb6-440c-9ab0-6151e3ee5e56"
      },
      "outputs": [
        {
          "output_type": "execute_result",
          "data": {
            "text/plain": [
              "0"
            ]
          },
          "metadata": {},
          "execution_count": 17
        }
      ],
      "source": [
        "df.duplicated().sum() # проверка на отсутствие дубликатов"
      ]
    },
    {
      "cell_type": "markdown",
      "metadata": {
        "deletable": false,
        "editable": false,
        "id": "QlFBsxAr_Zct"
      },
      "source": [
        "Теперь проверим наличие неявных дубликатов в колонке `genre`."
      ]
    },
    {
      "cell_type": "code",
      "execution_count": null,
      "metadata": {
        "deletable": false,
        "id": "JIUcqzZN_Zct",
        "colab": {
          "base_uri": "https://localhost:8080/"
        },
        "outputId": "261b3091-3ac8-4901-eea6-f2647ffd5903"
      },
      "outputs": [
        {
          "output_type": "stream",
          "name": "stdout",
          "text": [
            "['acid' 'acoustic' 'action' 'adult' 'africa' 'afrikaans' 'alternative'\n",
            " 'alternativepunk' 'ambient' 'americana' 'animated' 'anime' 'arabesk'\n",
            " 'arabic' 'arena' 'argentinetango' 'art' 'audiobook' 'author' 'avantgarde'\n",
            " 'axé' 'baile' 'balkan' 'beats' 'bigroom' 'black' 'bluegrass' 'blues'\n",
            " 'bollywood' 'bossa' 'brazilian' 'breakbeat' 'breaks' 'broadway'\n",
            " 'cantautori' 'cantopop' 'canzone' 'caribbean' 'caucasian' 'celtic'\n",
            " 'chamber' 'chanson' 'children' 'chill' 'chinese' 'choral' 'christian'\n",
            " 'christmas' 'classical' 'classicmetal' 'club' 'colombian' 'comedy'\n",
            " 'conjazz' 'contemporary' 'country' 'cuban' 'dance' 'dancehall' 'dancepop'\n",
            " 'dark' 'death' 'deep' 'deutschrock' 'deutschspr' 'dirty' 'disco' 'dnb'\n",
            " 'documentary' 'downbeat' 'downtempo' 'drum' 'dub' 'dubstep' 'eastern'\n",
            " 'easy' 'electronic' 'electropop' 'emo' 'entehno' 'epicmetal' 'estrada'\n",
            " 'ethnic' 'eurofolk' 'european' 'experimental' 'extrememetal' 'fado'\n",
            " 'fairytail' 'film' 'fitness' 'flamenco' 'folk' 'folklore' 'folkmetal'\n",
            " 'folkrock' 'folktronica' 'forró' 'frankreich' 'französisch' 'french'\n",
            " 'funk' 'future' 'gangsta' 'garage' 'german' 'ghazal' 'gitarre' 'glitch'\n",
            " 'gospel' 'gothic' 'grime' 'grunge' 'gypsy' 'handsup' \"hard'n'heavy\"\n",
            " 'hardcore' 'hardstyle' 'hardtechno' 'hip' 'hip-hop' 'hiphop' 'historisch'\n",
            " 'holiday' 'hop' 'horror' 'house' 'hymn' 'idm' 'independent' 'indian'\n",
            " 'indie' 'indipop' 'industrial' 'inspirational' 'instrumental'\n",
            " 'international' 'irish' 'jam' 'japanese' 'jazz' 'jewish' 'jpop' 'jungle'\n",
            " 'k-pop' 'karadeniz' 'karaoke' 'kayokyoku' 'korean' 'laiko' 'latin'\n",
            " 'latino' 'leftfield' 'local' 'lounge' 'loungeelectronic' 'lovers'\n",
            " 'malaysian' 'mandopop' 'marschmusik' 'meditative' 'mediterranean'\n",
            " 'melodic' 'metal' 'metalcore' 'mexican' 'middle' 'minimal'\n",
            " 'miscellaneous' 'modern' 'mood' 'mpb' 'muslim' 'native' 'neoklassik'\n",
            " 'neue' 'new' 'newage' 'newwave' 'nu' 'nujazz' 'numetal' 'oceania' 'old'\n",
            " 'opera' 'orchestral' 'other' 'piano' 'podcasts' 'pop' 'popdance'\n",
            " 'popelectronic' 'popeurodance' 'poprussian' 'post' 'posthardcore'\n",
            " 'postrock' 'power' 'progmetal' 'progressive' 'psychedelic' 'punjabi'\n",
            " 'punk' 'quebecois' 'ragga' 'ram' 'rancheras' 'rap' 'rave' 'reggae'\n",
            " 'reggaeton' 'regional' 'relax' 'religious' 'retro' 'rhythm' 'rnb' 'rnr'\n",
            " 'rock' 'rockabilly' 'rockalternative' 'rockindie' 'rockother' 'romance'\n",
            " 'roots' 'ruspop' 'rusrap' 'rusrock' 'russian' 'salsa' 'samba' 'scenic'\n",
            " 'schlager' 'self' 'sertanejo' 'shanson' 'shoegazing' 'showtunes' 'singer'\n",
            " 'ska' 'skarock' 'slow' 'smooth' 'soft' 'soul' 'soulful' 'sound'\n",
            " 'soundtrack' 'southern' 'specialty' 'speech' 'spiritual' 'sport'\n",
            " 'stonerrock' 'surf' 'swing' 'synthpop' 'synthrock' 'sängerportrait'\n",
            " 'tango' 'tanzorchester' 'taraftar' 'tatar' 'tech' 'techno' 'teen'\n",
            " 'thrash' 'top' 'traditional' 'tradjazz' 'trance' 'tribal' 'trip'\n",
            " 'triphop' 'tropical' 'türk' 'türkçe' 'ukrrock' 'unknown' 'urban' 'uzbek'\n",
            " 'variété' 'vi' 'videogame' 'vocal' 'western' 'world' 'worldbeat' 'ïîï'\n",
            " 'электроника']\n"
          ]
        }
      ],
      "source": [
        "df_genre = df['genre']# Просмотр уникальных названий жанров\n",
        "df_genre = df_genre.sort_values()\n",
        "print(df_genre.unique())"
      ]
    },
    {
      "cell_type": "markdown",
      "metadata": {
        "deletable": false,
        "editable": false,
        "id": "qej-Qmuo_Zct",
        "tags": [
          "start_task"
        ]
      },
      "source": [
        "Мы видим следующие неявные дубликаты:\n",
        "* *hip*,\n",
        "* *hop*,\n",
        "* *hip-hop*.\n",
        "\n",
        "Приведем все к единообразию."
      ]
    },
    {
      "cell_type": "code",
      "execution_count": null,
      "metadata": {
        "deletable": false,
        "id": "ErNDkmns_Zct"
      },
      "outputs": [],
      "source": [
        "df = df.replace('hip', 'hiphop') # Устранение неявных дубликатов\n",
        "df = df.replace('hop', 'hiphop')\n",
        "df = df.replace('hip-hop', 'hiphop')"
      ]
    },
    {
      "cell_type": "markdown",
      "metadata": {
        "deletable": false,
        "editable": false,
        "id": "zQKF16_RG15m",
        "tags": [
          "start_task"
        ]
      },
      "source": [
        "Осуществим проверку выполненных действий. Выведем отсортированный список уникальных значений столбца `genre`:"
      ]
    },
    {
      "cell_type": "code",
      "execution_count": null,
      "metadata": {
        "deletable": false,
        "id": "wvixALnFG15m",
        "colab": {
          "base_uri": "https://localhost:8080/"
        },
        "outputId": "86e4d21b-7617-48d3-e8b4-3afb5ec4f51f"
      },
      "outputs": [
        {
          "output_type": "execute_result",
          "data": {
            "text/plain": [
              "array(['acid', 'acoustic', 'action', 'adult', 'africa', 'afrikaans',\n",
              "       'alternative', 'alternativepunk', 'ambient', 'americana',\n",
              "       'animated', 'anime', 'arabesk', 'arabic', 'arena',\n",
              "       'argentinetango', 'art', 'audiobook', 'author', 'avantgarde',\n",
              "       'axé', 'baile', 'balkan', 'beats', 'bigroom', 'black', 'bluegrass',\n",
              "       'blues', 'bollywood', 'bossa', 'brazilian', 'breakbeat', 'breaks',\n",
              "       'broadway', 'cantautori', 'cantopop', 'canzone', 'caribbean',\n",
              "       'caucasian', 'celtic', 'chamber', 'chanson', 'children', 'chill',\n",
              "       'chinese', 'choral', 'christian', 'christmas', 'classical',\n",
              "       'classicmetal', 'club', 'colombian', 'comedy', 'conjazz',\n",
              "       'contemporary', 'country', 'cuban', 'dance', 'dancehall',\n",
              "       'dancepop', 'dark', 'death', 'deep', 'deutschrock', 'deutschspr',\n",
              "       'dirty', 'disco', 'dnb', 'documentary', 'downbeat', 'downtempo',\n",
              "       'drum', 'dub', 'dubstep', 'eastern', 'easy', 'electronic',\n",
              "       'electropop', 'emo', 'entehno', 'epicmetal', 'estrada', 'ethnic',\n",
              "       'eurofolk', 'european', 'experimental', 'extrememetal', 'fado',\n",
              "       'fairytail', 'film', 'fitness', 'flamenco', 'folk', 'folklore',\n",
              "       'folkmetal', 'folkrock', 'folktronica', 'forró', 'frankreich',\n",
              "       'französisch', 'french', 'funk', 'future', 'gangsta', 'garage',\n",
              "       'german', 'ghazal', 'gitarre', 'glitch', 'gospel', 'gothic',\n",
              "       'grime', 'grunge', 'gypsy', 'handsup', \"hard'n'heavy\", 'hardcore',\n",
              "       'hardstyle', 'hardtechno', 'hiphop', 'historisch', 'holiday',\n",
              "       'horror', 'house', 'hymn', 'idm', 'independent', 'indian', 'indie',\n",
              "       'indipop', 'industrial', 'inspirational', 'instrumental',\n",
              "       'international', 'irish', 'jam', 'japanese', 'jazz', 'jewish',\n",
              "       'jpop', 'jungle', 'k-pop', 'karadeniz', 'karaoke', 'kayokyoku',\n",
              "       'korean', 'laiko', 'latin', 'latino', 'leftfield', 'local',\n",
              "       'lounge', 'loungeelectronic', 'lovers', 'malaysian', 'mandopop',\n",
              "       'marschmusik', 'meditative', 'mediterranean', 'melodic', 'metal',\n",
              "       'metalcore', 'mexican', 'middle', 'minimal', 'miscellaneous',\n",
              "       'modern', 'mood', 'mpb', 'muslim', 'native', 'neoklassik', 'neue',\n",
              "       'new', 'newage', 'newwave', 'nu', 'nujazz', 'numetal', 'oceania',\n",
              "       'old', 'opera', 'orchestral', 'other', 'piano', 'podcasts', 'pop',\n",
              "       'popdance', 'popelectronic', 'popeurodance', 'poprussian', 'post',\n",
              "       'posthardcore', 'postrock', 'power', 'progmetal', 'progressive',\n",
              "       'psychedelic', 'punjabi', 'punk', 'quebecois', 'ragga', 'ram',\n",
              "       'rancheras', 'rap', 'rave', 'reggae', 'reggaeton', 'regional',\n",
              "       'relax', 'religious', 'retro', 'rhythm', 'rnb', 'rnr', 'rock',\n",
              "       'rockabilly', 'rockalternative', 'rockindie', 'rockother',\n",
              "       'romance', 'roots', 'ruspop', 'rusrap', 'rusrock', 'russian',\n",
              "       'salsa', 'samba', 'scenic', 'schlager', 'self', 'sertanejo',\n",
              "       'shanson', 'shoegazing', 'showtunes', 'singer', 'ska', 'skarock',\n",
              "       'slow', 'smooth', 'soft', 'soul', 'soulful', 'sound', 'soundtrack',\n",
              "       'southern', 'specialty', 'speech', 'spiritual', 'sport',\n",
              "       'stonerrock', 'surf', 'swing', 'synthpop', 'synthrock',\n",
              "       'sängerportrait', 'tango', 'tanzorchester', 'taraftar', 'tatar',\n",
              "       'tech', 'techno', 'teen', 'thrash', 'top', 'traditional',\n",
              "       'tradjazz', 'trance', 'tribal', 'trip', 'triphop', 'tropical',\n",
              "       'türk', 'türkçe', 'ukrrock', 'unknown', 'urban', 'uzbek',\n",
              "       'variété', 'vi', 'videogame', 'vocal', 'western', 'world',\n",
              "       'worldbeat', 'ïîï', 'электроника'], dtype=object)"
            ]
          },
          "metadata": {},
          "execution_count": 21
        }
      ],
      "source": [
        "df['genre'].sort_values().unique()"
      ]
    },
    {
      "cell_type": "markdown",
      "metadata": {
        "deletable": false,
        "editable": false,
        "id": "jz6a9-7HQUDd"
      },
      "source": [
        "**Выводы**\n",
        "\n",
        "В разделе предобработки мы обнаружили три проблемы в данных:\n",
        "\n",
        "- нарушения в стиле заголовков;\n",
        "- пропущенные значения;\n",
        "- дубликаты — явные и неявные.\n",
        "\n",
        "Мы исправили заголовки, чтобы упростить работу с таблицей. А так же прешили проблему дубликатов, теперь исследование станет более точным.\n",
        "\n",
        "Пропущенные значения заменили на `'unknown'`. Ещё предстоит увидеть, не повредят ли исследованию пропуски в колонке `genre`.\n",
        "\n",
        "Теперь можно перейти к проверке гипотез."
      ]
    },
    {
      "cell_type": "markdown",
      "metadata": {
        "deletable": false,
        "editable": false,
        "id": "WttZHXH0SqKk"
      },
      "source": [
        "## Проверка гипотез"
      ]
    },
    {
      "cell_type": "markdown",
      "metadata": {
        "deletable": false,
        "editable": false,
        "id": "Im936VVi_Zcu"
      },
      "source": [
        "### Сравнение поведения пользователей двух городов"
      ]
    },
    {
      "cell_type": "markdown",
      "metadata": {
        "deletable": false,
        "editable": false,
        "id": "nwt_MuaL_Zcu"
      },
      "source": [
        "Первая гипотеза утверждает, что пользователи по-разному слушают музыку в Москве и Санкт-Петербурге. Проверим это предположение по данным о трёх днях недели — понедельнике, среде и пятнице. Для этого:\n",
        "\n",
        "* Разделим пользователей Москвы и Санкт-Петербурга\n",
        "* Сравним, сколько треков послушала каждая группа пользователей в понедельник, среду и пятницу.\n"
      ]
    },
    {
      "cell_type": "markdown",
      "metadata": {
        "deletable": false,
        "editable": false,
        "id": "8Dw_YMmT_Zcu",
        "tags": [
          "start_task"
        ]
      },
      "source": [
        "Оценим активность пользователей в каждом городе. Сгруппируем данные по городу и посчитаем прослушивания в каждой группе."
      ]
    },
    {
      "cell_type": "code",
      "execution_count": null,
      "metadata": {
        "deletable": false,
        "id": "0_Qs96oh_Zcu",
        "colab": {
          "base_uri": "https://localhost:8080/"
        },
        "outputId": "c903bc4b-6dc5-4657-8b56-f457971c8c8f"
      },
      "outputs": [
        {
          "output_type": "execute_result",
          "data": {
            "text/plain": [
              "city\n",
              "Moscow              42741\n",
              "Saint-Petersburg    18512\n",
              "Name: genre, dtype: int64"
            ]
          },
          "metadata": {},
          "execution_count": 22
        }
      ],
      "source": [
        "df.groupby('city')['genre'].count()\n"
      ]
    },
    {
      "cell_type": "markdown",
      "metadata": {
        "deletable": false,
        "editable": false,
        "id": "dzli3w8o_Zcu",
        "tags": [
          "start_task"
        ]
      },
      "source": [
        "В Москве прослушиваний больше, чем в Петербурге. Это логично, так как самих пользователей в Москве больше.\n",
        "\n",
        "Теперь сгруппируем данные по дню недели и подсчитаем прослушивания в понедельник, среду и пятницу. Имеем ввиду, что в данных есть информация только о прослушиваниях только за эти дни.\n"
      ]
    },
    {
      "cell_type": "code",
      "execution_count": null,
      "metadata": {
        "deletable": false,
        "id": "uZMKjiJz_Zcu"
      },
      "outputs": [],
      "source": [
        "df.groupby('day')['genre'].count()\n"
      ]
    },
    {
      "cell_type": "markdown",
      "metadata": {
        "deletable": false,
        "editable": false,
        "id": "cC2tNrlL_Zcu"
      },
      "source": [
        "В среднем пользователи из двух городов менее активны по средам. Но картина может измениться, если рассмотреть каждый город в отдельности."
      ]
    },
    {
      "cell_type": "markdown",
      "metadata": {
        "deletable": false,
        "editable": false,
        "id": "POzs8bGa_Zcu",
        "tags": [
          "start_task"
        ]
      },
      "source": [
        "\n",
        "Создадим функцию `number_tracks()`, которая посчитает прослушивания для заданного дня и города. Будем использовать два параметра:\n",
        "* день недели,\n",
        "* название города."
      ]
    },
    {
      "cell_type": "code",
      "execution_count": null,
      "metadata": {
        "deletable": false,
        "id": "Nz3GdQB1_Zcu"
      },
      "outputs": [],
      "source": [
        "def number_tracks(day, city): # Объявляем функцию с двумя параметрами: day, city.\n",
        "   # В переменной track_list сохраним те строки таблицы df, для которых\n",
        "# значение в столбце 'day' равно параметру day и одновременно значение\n",
        "# в столбце 'city' равно параметру city\n",
        "    track_list = df[df['day'] == day]\n",
        "    track_list = track_list[track_list['city'] == city]\n",
        "# В переменной track_list_count сохраним число значений столбца 'user_id',\n",
        "# рассчитанное методом count() для таблицы track_list\n",
        "    track_list_count = track_list['user_id'].count()\n",
        "# Функция вернет число - значение track_list_count.\n",
        "    return track_list_count\n",
        "# Функция для подсчёта прослушиваний для конкретного города и дня.\n",
        "# С помощью последовательной фильтрации с логической индексацией она\n",
        "# сначала получит из исходной таблицы строки с нужным днём,\n",
        "# затем из результата отфильтрует строки с нужным городом,\n",
        "# методом count() посчитает количество значений в колонке user_id.\n",
        "# Это количество функция вернёт в качестве результата"
      ]
    },
    {
      "cell_type": "markdown",
      "metadata": {
        "deletable": false,
        "editable": false,
        "id": "ytf7xFrFJQ2r",
        "tags": [
          "start_task"
        ]
      },
      "source": [
        "Вызовем `number_tracks()` шесть раз, меняя значение параметров — так, чтобы получить данные для каждого города в каждый из трёх дней."
      ]
    },
    {
      "cell_type": "code",
      "execution_count": null,
      "metadata": {
        "deletable": false,
        "id": "rJcRATNQ_Zcu",
        "colab": {
          "base_uri": "https://localhost:8080/"
        },
        "outputId": "e7e765e9-52e3-4922-cb05-eebc8614a492"
      },
      "outputs": [
        {
          "output_type": "stream",
          "name": "stdout",
          "text": [
            "15740\n"
          ]
        }
      ],
      "source": [
        "listening = number_tracks('Monday', 'Moscow') # количество прослушиваний в Москве по понедельникам\n",
        "print(listening)"
      ]
    },
    {
      "cell_type": "code",
      "execution_count": null,
      "metadata": {
        "deletable": false,
        "id": "hq_ncZ5T_Zcu",
        "colab": {
          "base_uri": "https://localhost:8080/"
        },
        "outputId": "a0209be7-59a0-4920-fce3-0bf58edcc558"
      },
      "outputs": [
        {
          "output_type": "stream",
          "name": "stdout",
          "text": [
            "5614\n"
          ]
        }
      ],
      "source": [
        "listening = number_tracks('Monday', 'Saint-Petersburg')  # количество прослушиваний в Санкт-Петербурге по понедельникам\n",
        "print(listening)"
      ]
    },
    {
      "cell_type": "code",
      "execution_count": null,
      "metadata": {
        "deletable": false,
        "id": "_NTy2VPU_Zcu",
        "colab": {
          "base_uri": "https://localhost:8080/"
        },
        "outputId": "0aab5415-a216-4f6a-ae1e-2f2de63d3001"
      },
      "outputs": [
        {
          "output_type": "stream",
          "name": "stdout",
          "text": [
            "11056\n"
          ]
        }
      ],
      "source": [
        "listening = number_tracks('Wednesday', 'Moscow') # количество прослушиваний в Москве по средам\n",
        "print(listening)"
      ]
    },
    {
      "cell_type": "code",
      "execution_count": null,
      "metadata": {
        "deletable": false,
        "id": "j2y3TAwo_Zcu",
        "colab": {
          "base_uri": "https://localhost:8080/"
        },
        "outputId": "74e93405-cbe3-4860-9c43-8773a99cec0b"
      },
      "outputs": [
        {
          "output_type": "stream",
          "name": "stdout",
          "text": [
            "7003\n"
          ]
        }
      ],
      "source": [
        "listening = number_tracks('Wednesday', 'Saint-Petersburg') # количество прослушиваний в Санкт-Петербурге по средам\n",
        "print(listening)"
      ]
    },
    {
      "cell_type": "code",
      "execution_count": null,
      "metadata": {
        "deletable": false,
        "id": "vYDw5u_K_Zcu",
        "colab": {
          "base_uri": "https://localhost:8080/"
        },
        "outputId": "68f891d3-849d-4558-a46b-1c1a7bfa171d"
      },
      "outputs": [
        {
          "output_type": "stream",
          "name": "stdout",
          "text": [
            "15945\n"
          ]
        }
      ],
      "source": [
        "listening = number_tracks('Friday', 'Moscow') # количество прослушиваний в Москве по пятницам\n",
        "print(listening)"
      ]
    },
    {
      "cell_type": "code",
      "execution_count": null,
      "metadata": {
        "deletable": false,
        "id": "8_yzFtW3_Zcu",
        "colab": {
          "base_uri": "https://localhost:8080/"
        },
        "outputId": "12639b0c-b960-468c-87dc-871db76434e9"
      },
      "outputs": [
        {
          "output_type": "stream",
          "name": "stdout",
          "text": [
            "5895\n"
          ]
        }
      ],
      "source": [
        "listening = number_tracks('Friday', 'Saint-Petersburg') # количество прослушиваний в Санкт-Петербурге по пятницам\n",
        "print(listening)"
      ]
    },
    {
      "cell_type": "markdown",
      "metadata": {
        "deletable": false,
        "editable": false,
        "id": "7QXffbO-_Zcu",
        "tags": [
          "start_task"
        ]
      },
      "source": [
        "Сведем всю информацию с помощью `pd.DataFrame` в одну таблицу, где\n",
        "* названия колонок — `['city', 'monday', 'wednesday', 'friday']`;\n",
        "* данные — результаты, которые мы получили с помощью `number_tracks`."
      ]
    },
    {
      "cell_type": "code",
      "execution_count": null,
      "metadata": {
        "deletable": false,
        "id": "APAcLpOr_Zcu",
        "colab": {
          "base_uri": "https://localhost:8080/"
        },
        "outputId": "dd82e457-ff05-4c46-ef93-d8529382cf8b"
      },
      "outputs": [
        {
          "output_type": "stream",
          "name": "stdout",
          "text": [
            "               city  monday  wednesday  friday\n",
            "0            Moscow   15740      11056   15945\n",
            "1  Saint-Petersburg    5614       7003    5895\n"
          ]
        }
      ],
      "source": [
        "data = [['Moscow', 15740, 11056, 15945],['Saint-Petersburg', 5614, 7003, 5895]]\n",
        "columns = ['city', 'monday', 'wednesday', 'friday']\n",
        "\n",
        "table = pd.DataFrame(data = data, columns = columns) # Таблица с результатами\n",
        "print(table)"
      ]
    },
    {
      "cell_type": "markdown",
      "metadata": {
        "deletable": false,
        "editable": false,
        "id": "-EgPIHYu_Zcu"
      },
      "source": [
        "**Выводы**\n",
        "\n",
        "Информация указывает на различия в поведении пользователей:\n",
        "\n",
        "- В Москве наивысшая активность прослушиваний отмечается в понедельник и пятницу, тогда как в среду наблюдается уменьшение интереса.\n",
        "\n",
        "- В Санкт-Петербурге, наоборот, больше всего музыку слушают по средам. В понедельник и пятницу активность здесь почти равномерно распределена и в целом уступает средней неделе.\n",
        "\n",
        "Таким образом, полученные данные подтверждают первую гипотезу."
      ]
    },
    {
      "cell_type": "markdown",
      "metadata": {
        "deletable": false,
        "editable": false,
        "id": "atZAxtq4_Zcu"
      },
      "source": [
        "### Музыка в начале и в конце недели"
      ]
    },
    {
      "cell_type": "markdown",
      "metadata": {
        "deletable": false,
        "editable": false,
        "id": "eXrQqXFH_Zcu"
      },
      "source": [
        "Согласно второй гипотезе, утром в понедельник в Москве преобладают одни жанры, а в Петербурге — другие. Так же и вечером пятницы преобладают разные жанры — в зависимости от города."
      ]
    },
    {
      "cell_type": "markdown",
      "metadata": {
        "deletable": false,
        "editable": false,
        "id": "S8UcW6Hw_Zcu",
        "tags": [
          "start_task"
        ]
      },
      "source": [
        "Сохраним таблицы с данными в две переменные:\n",
        "* по Москве — в `moscow_general`;\n",
        "* по Санкт-Петербургу — в `spb_general`."
      ]
    },
    {
      "cell_type": "code",
      "execution_count": null,
      "metadata": {
        "deletable": false,
        "id": "qeaFfM_P_Zcu"
      },
      "outputs": [],
      "source": [
        "moscow_general = df[df['city'] == 'Moscow']# получение таблицы moscow_general из тех строк таблицы df,\n",
        "# для которых значение в столбце 'city' равно 'Moscow'\n"
      ]
    },
    {
      "cell_type": "code",
      "execution_count": null,
      "metadata": {
        "deletable": false,
        "id": "ORaVRKto_Zcu"
      },
      "outputs": [],
      "source": [
        "spb_general = df[df['city'] == 'Saint-Petersburg']# получение таблицы spb_general из тех строк таблицы df,\n",
        "# для которых значение в столбце 'city' равно 'Saint-Petersburg'\n"
      ]
    },
    {
      "cell_type": "markdown",
      "metadata": {
        "deletable": false,
        "id": "MEJV-CX2_Zcu",
        "tags": [
          "start_task"
        ]
      },
      "source": [
        "Создадим функцию `genre_weekday()` которая вернет нам информацию о топ-10 жанров тех треков, которые прослушивали в указанный день, в промежутке между двумя отметками времени."
      ]
    },
    {
      "cell_type": "code",
      "execution_count": null,
      "metadata": {
        "deletable": false,
        "id": "laJT9BYl_Zcu"
      },
      "outputs": [],
      "source": [
        "# Объявление функции genre_weekday() с параметрами table, day, time1, time2,\n",
        "# которая возвращает информацию о самых популярных жанрах в указанный день в\n",
        "# заданное время:\n",
        "# 1) в переменную genre_df сохраняются те строки переданного датафрейма table, для\n",
        "#    которых одновременно:\n",
        "#    - значение в столбце day равно значению аргумента day\n",
        "#    - значение в столбце time больше значения аргумента time1\n",
        "#    - значение в столбце time меньше значения аргумента time2\n",
        "#    Используем последовательную фильтрацию с помощью логической индексации.\n",
        "# 2) сгруппируем датафрейм genre_df по столбцу genre, возьмем один из его\n",
        "#    столбцов и посчитаем методом count() количество записей для каждого из\n",
        "#    присутствующих жанров, получившийся Series запишем в переменную\n",
        "#    genre_df_grouped\n",
        "# 3) отсортируем genre_df_grouped по убыванию встречаемости и сохраним\n",
        "#    в переменную genre_df_sorted\n",
        "# 4) вернем Series из 10 первых значений genre_df_sorted, это будут топ-10\n",
        "#    популярных жанров (в указанный день, в заданное время)\n",
        "\n",
        "def genre_weekday(df, day, time1, time2):\n",
        "    # последовательная фильтрация\n",
        "    # оставляем в genre_df только те строки df, у которых день равен day\n",
        "    genre_df = df[df['day'] == day]\n",
        "    # оставляем в genre_df только те строки genre_df, у которых время меньше time2\n",
        "    genre_df = genre_df[genre_df['time'] < time2]\n",
        "    # оставляем в genre_df только те строки genre_df, у которых время больше time1\n",
        "    genre_df = genre_df[genre_df['time'] > time1]\n",
        "    # сгруппируем отфильтрованный датафрейм по столбцу с названиями жанров, возьмём столбец genre и посчитаем кол-во строк для каждого жанра методом count()\n",
        "    genre_df_grouped = genre_df.groupby('genre')['genre'].count()\n",
        "        # отсортируем результат по убыванию (чтобы в начале Series оказались самые популярные жанры)\n",
        "    genre_df_sorted = genre_df_grouped.sort_values(ascending=False)\n",
        "    # вернём Series с 10 самыми популярными жанрами в указанный отрезок времени заданного дня\n",
        "    return genre_df_sorted[:10]"
      ]
    },
    {
      "cell_type": "markdown",
      "metadata": {
        "deletable": false,
        "editable": false,
        "id": "la2s2_PF_Zcu",
        "tags": [
          "start_task"
        ]
      },
      "source": [
        "Cравним результаты функции `genre_weekday()` для Москвы и Санкт-Петербурга в понедельник утром (с 7:00 до 11:00) и в пятницу вечером (с 17:00 до 23:00):"
      ]
    },
    {
      "cell_type": "code",
      "execution_count": null,
      "metadata": {
        "deletable": false,
        "id": "yz7itPUQ_Zcu",
        "colab": {
          "base_uri": "https://localhost:8080/"
        },
        "outputId": "e3eded29-d2f1-47db-e9c8-241ce26fee21"
      },
      "outputs": [
        {
          "output_type": "execute_result",
          "data": {
            "text/plain": [
              "genre\n",
              "pop            781\n",
              "dance          549\n",
              "electronic     480\n",
              "rock           474\n",
              "hiphop         286\n",
              "ruspop         186\n",
              "world          181\n",
              "rusrap         175\n",
              "alternative    164\n",
              "unknown        161\n",
              "Name: genre, dtype: int64"
            ]
          },
          "metadata": {},
          "execution_count": 35
        }
      ],
      "source": [
        "genre_weekday(moscow_general, 'Monday', '07:00', '11:00') # вызовем функцию для утра понедельника в Москве (вместо df — таблица moscow_general)"
      ]
    },
    {
      "cell_type": "code",
      "execution_count": null,
      "metadata": {
        "deletable": false,
        "id": "kwUcHPdy_Zcu",
        "colab": {
          "base_uri": "https://localhost:8080/"
        },
        "outputId": "209c6084-21cb-4fde-8a2d-f78e5206007b"
      },
      "outputs": [
        {
          "output_type": "execute_result",
          "data": {
            "text/plain": [
              "genre\n",
              "pop            218\n",
              "dance          182\n",
              "rock           162\n",
              "electronic     147\n",
              "hiphop          80\n",
              "ruspop          64\n",
              "alternative     58\n",
              "rusrap          55\n",
              "jazz            44\n",
              "classical       40\n",
              "Name: genre, dtype: int64"
            ]
          },
          "metadata": {},
          "execution_count": 36
        }
      ],
      "source": [
        "genre_weekday(spb_general, 'Monday', '07:00', '11:00') # вызовем функцию для утра понедельника в Петербурге (вместо df — таблица spb_general)"
      ]
    },
    {
      "cell_type": "code",
      "execution_count": null,
      "metadata": {
        "deletable": false,
        "id": "EzXVRE1o_Zcu",
        "colab": {
          "base_uri": "https://localhost:8080/"
        },
        "outputId": "cfc4d3f2-bb99-4bf6-a1f6-785fd371c115"
      },
      "outputs": [
        {
          "output_type": "execute_result",
          "data": {
            "text/plain": [
              "genre\n",
              "pop            713\n",
              "rock           517\n",
              "dance          495\n",
              "electronic     482\n",
              "hiphop         273\n",
              "world          208\n",
              "ruspop         170\n",
              "alternative    163\n",
              "classical      163\n",
              "rusrap         142\n",
              "Name: genre, dtype: int64"
            ]
          },
          "metadata": {},
          "execution_count": 37
        }
      ],
      "source": [
        "genre_weekday(moscow_general, 'Friday', '17:00', '23:00') # вызовем функцию для вечера пятницы в Москве"
      ]
    },
    {
      "cell_type": "code",
      "execution_count": null,
      "metadata": {
        "deletable": false,
        "id": "JZaEKu5v_Zcu",
        "colab": {
          "base_uri": "https://localhost:8080/"
        },
        "outputId": "f3dcee8d-b550-46a8-853c-c54ba77e21dc"
      },
      "outputs": [
        {
          "output_type": "execute_result",
          "data": {
            "text/plain": [
              "genre\n",
              "pop            256\n",
              "electronic     216\n",
              "rock           216\n",
              "dance          210\n",
              "hiphop          97\n",
              "alternative     63\n",
              "jazz            61\n",
              "classical       60\n",
              "rusrap          59\n",
              "world           54\n",
              "Name: genre, dtype: int64"
            ]
          },
          "metadata": {},
          "execution_count": 38
        }
      ],
      "source": [
        "genre_weekday(spb_general, 'Friday', '17:00', '23:00') # вызовем функцию для вечера пятницы в Петербурге"
      ]
    },
    {
      "cell_type": "markdown",
      "metadata": {
        "deletable": false,
        "editable": false,
        "id": "wrCe4MNX_Zcu"
      },
      "source": [
        "**Выводы**\n",
        "\n",
        "Если сравнить топ-10 жанров в понедельник утром, можно сделать такие выводы:\n",
        "\n",
        "1. В Москве и Петербурге слушают похожую музыку. Единственное отличие — в московский рейтинг вошёл жанр “world”, а в петербургский — джаз и классика.\n",
        "\n",
        "2. В Москве пропущенных значений оказалось так много, что значение `'unknown'` заняло десятое место среди самых популярных жанров. Значит, пропущенные значения занимают существенную долю в данных и угрожают достоверности исследования.\n",
        "\n",
        "Вечер пятницы не меняет эту картину. Некоторые жанры поднимаются немного выше, другие спускаются, но в целом топ-10 остаётся тем же самым.\n",
        "\n",
        "Таким образом, вторая гипотеза подтвердилась лишь частично:\n",
        "* Пользователи слушают похожую музыку в начале недели и в конце.\n",
        "* Разница между Москвой и Петербургом не слишком выражена. В Москве чаще слушают русскую популярную музыку, в Петербурге — джаз.\n",
        "\n",
        "Однако пропуски в данных ставят под сомнение этот результат. В Москве их так много, что рейтинг топ-10 мог бы выглядеть иначе, если бы не утерянные  данные о жанрах."
      ]
    },
    {
      "cell_type": "markdown",
      "metadata": {
        "deletable": false,
        "editable": false,
        "id": "JolODAqr_Zcu"
      },
      "source": [
        "### Жанровые предпочтения в Москве и Петербурге\n",
        "\n",
        "Гипотеза: Петербург — столица рэпа, музыку этого жанра там слушают чаще, чем в Москве.  А Москва — город контрастов, в котором, тем не менее, преобладает поп-музыка."
      ]
    },
    {
      "cell_type": "markdown",
      "metadata": {
        "deletable": false,
        "editable": false,
        "id": "DlegSvaT_Zcu",
        "tags": [
          "start_task"
        ]
      },
      "source": [
        "Сгруппируем таблицу `moscow_general` по жанру и посчитаем прослушивания треков каждого жанра методом `count()`. Затем отсортируем результат в порядке убывания и сохраним его в таблице `moscow_genres`."
      ]
    },
    {
      "cell_type": "code",
      "execution_count": null,
      "metadata": {
        "deletable": false,
        "id": "r19lIPke_Zcu"
      },
      "outputs": [],
      "source": [
        "moscow_genres = (moscow_general.groupby('genre')['genre'].count()).sort_values(ascending=False)# группировка таблицы moscow_general по столбцу 'genre',\n",
        "# подсчёт числа значений 'genre' в этой группировке методом count(),\n",
        "# сортировка получившегося Series в порядке убывания и сохранение в moscow_genres"
      ]
    },
    {
      "cell_type": "markdown",
      "metadata": {
        "deletable": false,
        "editable": false,
        "id": "6kMuomxTiIr8",
        "tags": [
          "start_task"
        ]
      },
      "source": [
        "Выведем на экран первые десять строк `moscow_genres`:"
      ]
    },
    {
      "cell_type": "code",
      "execution_count": null,
      "metadata": {
        "deletable": false,
        "id": "WhCSooF8_Zcv",
        "colab": {
          "base_uri": "https://localhost:8080/"
        },
        "outputId": "9740df3d-042d-4291-de3e-955f3926c8a5"
      },
      "outputs": [
        {
          "output_type": "execute_result",
          "data": {
            "text/plain": [
              "genre\n",
              "pop            5892\n",
              "dance          4435\n",
              "rock           3965\n",
              "electronic     3786\n",
              "hiphop         2096\n",
              "classical      1616\n",
              "world          1432\n",
              "alternative    1379\n",
              "ruspop         1372\n",
              "rusrap         1161\n",
              "Name: genre, dtype: int64"
            ]
          },
          "metadata": {},
          "execution_count": 41
        }
      ],
      "source": [
        "moscow_genres[:10] # просмотр первых 10 строк moscow_genres"
      ]
    },
    {
      "cell_type": "markdown",
      "metadata": {
        "deletable": false,
        "editable": false,
        "id": "cnPG2vnN_Zcv",
        "tags": [
          "start_task"
        ]
      },
      "source": [
        "Повторим то же и для Петербурга.\n",
        "\n",
        "Сгруппируем таблицу `spb_general` по жанру. Посчитаем прослушивания треков каждого жанра. Результат отсортируем в порядке убывания и сохраним в таблице `spb_genres`:\n"
      ]
    },
    {
      "cell_type": "code",
      "execution_count": null,
      "metadata": {
        "deletable": false,
        "id": "gluLIpE7_Zcv"
      },
      "outputs": [],
      "source": [
        "spb_genres = (spb_general.groupby('genre')['genre'].count()).sort_values(ascending=False)# группировка таблицы spb_general по столбцу 'genre',\n",
        "# подсчёт числа значений 'genre' в этой группировке методом count(),\n",
        "# сортировка получившегося Series в порядке убывания и сохранение в spb_genres"
      ]
    },
    {
      "cell_type": "markdown",
      "metadata": {
        "deletable": false,
        "editable": false,
        "id": "5Doha_ODgyQ8",
        "tags": [
          "start_task"
        ]
      },
      "source": [
        "Выведем на экран первые десять строк `spb_genres`:"
      ]
    },
    {
      "cell_type": "code",
      "execution_count": null,
      "metadata": {
        "deletable": false,
        "id": "uaGJHjVU_Zcv",
        "colab": {
          "base_uri": "https://localhost:8080/"
        },
        "outputId": "aafc5af1-1551-45ec-e810-8abe22700fdb"
      },
      "outputs": [
        {
          "output_type": "execute_result",
          "data": {
            "text/plain": [
              "genre\n",
              "pop            2431\n",
              "dance          1932\n",
              "rock           1879\n",
              "electronic     1736\n",
              "hiphop          960\n",
              "alternative     649\n",
              "classical       646\n",
              "rusrap          564\n",
              "ruspop          538\n",
              "world           515\n",
              "Name: genre, dtype: int64"
            ]
          },
          "metadata": {},
          "execution_count": 43
        }
      ],
      "source": [
        "spb_genres[:10]# просмотр первых 10 строк spb_genres"
      ]
    },
    {
      "cell_type": "markdown",
      "metadata": {
        "deletable": false,
        "editable": false,
        "id": "RY51YJYu_Zcv"
      },
      "source": [
        "**Выводы**"
      ]
    },
    {
      "cell_type": "markdown",
      "metadata": {
        "deletable": false,
        "editable": false,
        "id": "nVhnJEm__Zcv"
      },
      "source": [
        "Гипотеза частично подтвердилась:\n",
        "* Поп-музыка — самый популярный жанр в Москве, как и предполагала гипотеза. Более того, в топ-10 жанров встречается близкий жанр — русская популярная музыка.\n",
        "* Вопреки ожиданиям, рэп одинаково популярен в Москве и Петербурге.\n"
      ]
    },
    {
      "cell_type": "markdown",
      "metadata": {
        "deletable": false,
        "editable": false,
        "id": "ykKQ0N65_Zcv"
      },
      "source": [
        "## Итоги исследования"
      ]
    },
    {
      "cell_type": "markdown",
      "metadata": {
        "deletable": false,
        "editable": false,
        "id": "tjUwbHb3_Zcv"
      },
      "source": [
        "Мы проверили три гипотезы и установили:\n",
        "\n",
        "1. День недели по-разному влияет на активность пользователей в Москве и Петербурге.\n",
        "\n",
        "Первая гипотеза полностью подтвердилась.\n",
        "\n",
        "2. Музыкальные предпочтения не сильно меняются в течение недели — будь то Москва или Петербург. Небольшие различия заметны в начале недели, по понедельникам:\n",
        "* в Москве слушают музыку жанра “world”,\n",
        "* в Петербурге — джаз и классику.\n",
        "\n",
        "Таким образом, вторая гипотеза подтвердилась лишь отчасти. Этот результат мог оказаться иным, если бы не пропуски в данных.\n",
        "\n",
        "3. Во вкусах пользователей Москвы и Петербурга больше общего чем различий. Вопреки ожиданиям, предпочтения жанров в Петербурге напоминают московские.\n",
        "\n",
        "Третья гипотеза не подтвердилась. Если различия в предпочтениях и существуют, на основной массе пользователей они незаметны.\n",
        "\n",
        "**Данный проект не содержит исследования проверки статистических гипотез.**\n",
        "Из данных одного сервиса не всегда можно сделать вывод о всех жителях города.\n",
        "Проверка статистических гипотез показала бы нам, насколько эти выводы достоверны, исходя из имеющихся данных.\n"
      ]
    }
  ],
  "metadata": {
    "ExecuteTimeLog": [
      {
        "duration": 45,
        "start_time": "2023-02-22T12:45:24.671Z"
      },
      {
        "duration": 5,
        "start_time": "2023-02-22T12:45:54.279Z"
      },
      {
        "duration": 376,
        "start_time": "2023-02-22T12:46:54.622Z"
      },
      {
        "duration": 451,
        "start_time": "2023-02-22T12:47:02.872Z"
      },
      {
        "duration": 17,
        "start_time": "2023-02-22T12:47:08.361Z"
      },
      {
        "duration": 28,
        "start_time": "2023-02-22T12:48:27.021Z"
      },
      {
        "duration": 31,
        "start_time": "2023-02-22T12:52:12.852Z"
      },
      {
        "duration": 73,
        "start_time": "2023-02-22T12:56:21.301Z"
      },
      {
        "duration": 2,
        "start_time": "2023-02-22T12:56:57.995Z"
      },
      {
        "duration": 31,
        "start_time": "2023-02-22T12:58:35.032Z"
      },
      {
        "duration": 6,
        "start_time": "2023-02-22T12:59:16.082Z"
      },
      {
        "duration": 5,
        "start_time": "2023-02-22T13:03:02.401Z"
      },
      {
        "duration": 70,
        "start_time": "2023-02-22T13:10:36.032Z"
      },
      {
        "duration": 10,
        "start_time": "2023-02-22T13:11:31.181Z"
      },
      {
        "duration": 4,
        "start_time": "2023-02-22T13:11:48.864Z"
      },
      {
        "duration": 23,
        "start_time": "2023-02-22T13:15:02.459Z"
      },
      {
        "duration": 1136,
        "start_time": "2023-02-22T13:45:40.549Z"
      },
      {
        "duration": 18,
        "start_time": "2023-02-22T13:47:06.533Z"
      },
      {
        "duration": 21,
        "start_time": "2023-02-22T13:47:16.653Z"
      },
      {
        "duration": 36,
        "start_time": "2023-02-22T13:47:34.113Z"
      },
      {
        "duration": 63,
        "start_time": "2023-02-22T13:49:27.772Z"
      },
      {
        "duration": 94,
        "start_time": "2023-02-22T13:50:06.745Z"
      },
      {
        "duration": 63,
        "start_time": "2023-02-22T13:50:23.200Z"
      },
      {
        "duration": 17,
        "start_time": "2023-02-22T14:13:13.613Z"
      },
      {
        "duration": 77,
        "start_time": "2023-02-22T14:40:16.482Z"
      },
      {
        "duration": 52,
        "start_time": "2023-02-22T14:40:23.412Z"
      },
      {
        "duration": 17,
        "start_time": "2023-02-22T14:40:49.808Z"
      },
      {
        "duration": 10,
        "start_time": "2023-02-22T14:52:24.322Z"
      },
      {
        "duration": 10,
        "start_time": "2023-02-22T14:54:25.622Z"
      },
      {
        "duration": 7,
        "start_time": "2023-02-22T14:59:37.093Z"
      },
      {
        "duration": 2,
        "start_time": "2023-02-22T15:03:55.263Z"
      },
      {
        "duration": 2,
        "start_time": "2023-02-22T15:03:59.213Z"
      },
      {
        "duration": 2,
        "start_time": "2023-02-22T15:04:03.034Z"
      },
      {
        "duration": 8,
        "start_time": "2023-02-22T15:04:07.393Z"
      },
      {
        "duration": 76,
        "start_time": "2023-02-22T15:10:35.164Z"
      },
      {
        "duration": 75,
        "start_time": "2023-02-22T15:11:35.805Z"
      },
      {
        "duration": 10,
        "start_time": "2023-02-22T15:13:38.833Z"
      },
      {
        "duration": 8,
        "start_time": "2023-02-22T15:14:00.954Z"
      },
      {
        "duration": 9,
        "start_time": "2023-02-22T15:14:26.625Z"
      },
      {
        "duration": 12,
        "start_time": "2023-02-22T15:21:44.756Z"
      },
      {
        "duration": 11,
        "start_time": "2023-02-22T15:22:03.515Z"
      },
      {
        "duration": 12,
        "start_time": "2023-02-22T15:22:05.963Z"
      },
      {
        "duration": 7,
        "start_time": "2023-02-22T15:22:18.281Z"
      },
      {
        "duration": 3,
        "start_time": "2023-02-22T15:22:36.485Z"
      },
      {
        "duration": 10,
        "start_time": "2023-02-22T15:22:44.164Z"
      },
      {
        "duration": 5,
        "start_time": "2023-02-22T15:28:29.623Z"
      },
      {
        "duration": 3,
        "start_time": "2023-02-22T15:29:48.704Z"
      },
      {
        "duration": 2,
        "start_time": "2023-02-22T15:29:51.016Z"
      },
      {
        "duration": 6,
        "start_time": "2023-02-22T15:30:27.825Z"
      },
      {
        "duration": 13,
        "start_time": "2023-02-22T15:33:59.356Z"
      },
      {
        "duration": 9,
        "start_time": "2023-02-22T15:44:15.291Z"
      },
      {
        "duration": 34,
        "start_time": "2023-02-22T15:45:56.981Z"
      },
      {
        "duration": 41,
        "start_time": "2023-02-22T15:46:36.623Z"
      },
      {
        "duration": 42,
        "start_time": "2023-02-22T15:47:19.850Z"
      },
      {
        "duration": 42,
        "start_time": "2023-02-22T15:47:46.643Z"
      },
      {
        "duration": 37,
        "start_time": "2023-02-22T15:48:00.521Z"
      },
      {
        "duration": 38,
        "start_time": "2023-02-22T15:49:29.255Z"
      },
      {
        "duration": 38,
        "start_time": "2023-02-22T15:49:40.832Z"
      },
      {
        "duration": 7,
        "start_time": "2023-02-22T15:56:34.500Z"
      },
      {
        "duration": 10,
        "start_time": "2023-02-22T16:10:53.683Z"
      },
      {
        "duration": 35,
        "start_time": "2023-02-22T16:15:01.544Z"
      },
      {
        "duration": 38,
        "start_time": "2023-02-22T16:15:45.916Z"
      },
      {
        "duration": 35,
        "start_time": "2023-02-22T16:16:32.920Z"
      },
      {
        "duration": 70,
        "start_time": "2023-02-22T16:21:06.763Z"
      },
      {
        "duration": 44,
        "start_time": "2023-02-22T16:21:25.862Z"
      },
      {
        "duration": 73,
        "start_time": "2023-02-22T16:21:43.623Z"
      },
      {
        "duration": 605,
        "start_time": "2023-02-22T16:29:08.318Z"
      },
      {
        "duration": 48,
        "start_time": "2023-02-23T02:20:58.449Z"
      },
      {
        "duration": 7,
        "start_time": "2023-02-23T02:22:22.690Z"
      },
      {
        "duration": 8,
        "start_time": "2023-02-23T02:32:16.260Z"
      },
      {
        "duration": 6,
        "start_time": "2023-02-23T02:32:40.040Z"
      },
      {
        "duration": 488,
        "start_time": "2023-02-23T02:32:50.021Z"
      },
      {
        "duration": 488,
        "start_time": "2023-02-23T02:32:55.190Z"
      },
      {
        "duration": 21,
        "start_time": "2023-02-23T02:33:01.919Z"
      },
      {
        "duration": 34,
        "start_time": "2023-02-23T02:33:18.380Z"
      },
      {
        "duration": 3,
        "start_time": "2023-02-23T02:33:29.830Z"
      },
      {
        "duration": 5,
        "start_time": "2023-02-23T02:33:37.480Z"
      },
      {
        "duration": 14,
        "start_time": "2023-02-23T02:33:43.963Z"
      },
      {
        "duration": 4,
        "start_time": "2023-02-23T02:33:47.900Z"
      },
      {
        "duration": 29,
        "start_time": "2023-02-23T02:33:53.720Z"
      },
      {
        "duration": 22,
        "start_time": "2023-02-23T02:33:59.938Z"
      },
      {
        "duration": 28,
        "start_time": "2023-02-23T02:34:04.459Z"
      },
      {
        "duration": 72,
        "start_time": "2023-02-23T02:34:08.170Z"
      },
      {
        "duration": 84,
        "start_time": "2023-02-23T02:34:13.820Z"
      },
      {
        "duration": 67,
        "start_time": "2023-02-23T02:34:20.108Z"
      },
      {
        "duration": 40,
        "start_time": "2023-02-23T02:34:25.839Z"
      },
      {
        "duration": 40,
        "start_time": "2023-02-23T02:48:59.656Z"
      },
      {
        "duration": 66,
        "start_time": "2023-02-23T02:49:41.394Z"
      },
      {
        "duration": 11,
        "start_time": "2023-02-23T02:49:50.064Z"
      },
      {
        "duration": 46,
        "start_time": "2023-02-23T02:50:46.323Z"
      },
      {
        "duration": 63,
        "start_time": "2023-02-23T02:51:50.244Z"
      },
      {
        "duration": 41,
        "start_time": "2023-02-23T02:51:56.564Z"
      },
      {
        "duration": 57,
        "start_time": "2023-02-23T02:52:06.533Z"
      },
      {
        "duration": 10,
        "start_time": "2023-02-23T02:52:10.965Z"
      },
      {
        "duration": 36,
        "start_time": "2023-02-23T02:54:14.374Z"
      },
      {
        "duration": 11,
        "start_time": "2023-02-23T02:55:01.564Z"
      },
      {
        "duration": 3,
        "start_time": "2023-02-23T03:02:52.873Z"
      },
      {
        "duration": 12,
        "start_time": "2023-02-23T03:03:20.574Z"
      },
      {
        "duration": 9,
        "start_time": "2023-02-23T03:03:46.333Z"
      },
      {
        "duration": 10,
        "start_time": "2023-02-23T03:03:57.384Z"
      },
      {
        "duration": 8,
        "start_time": "2023-02-23T03:22:48.453Z"
      },
      {
        "duration": 6,
        "start_time": "2023-02-23T03:23:26.184Z"
      },
      {
        "duration": 6,
        "start_time": "2023-02-23T03:23:47.393Z"
      },
      {
        "duration": 6,
        "start_time": "2023-02-23T03:24:49.362Z"
      },
      {
        "duration": 17,
        "start_time": "2023-02-23T03:25:33.674Z"
      },
      {
        "duration": 15,
        "start_time": "2023-02-23T03:32:02.734Z"
      },
      {
        "duration": 107,
        "start_time": "2023-02-23T03:45:57.713Z"
      },
      {
        "duration": 68,
        "start_time": "2023-02-23T03:46:32.351Z"
      },
      {
        "duration": 11,
        "start_time": "2023-02-23T03:46:57.260Z"
      },
      {
        "duration": 70,
        "start_time": "2023-02-23T03:47:05.963Z"
      },
      {
        "duration": 73,
        "start_time": "2023-02-23T03:47:42.680Z"
      },
      {
        "duration": 72,
        "start_time": "2023-02-23T03:53:37.388Z"
      },
      {
        "duration": 68,
        "start_time": "2023-02-23T03:53:50.081Z"
      },
      {
        "duration": 85,
        "start_time": "2023-02-23T03:54:22.991Z"
      },
      {
        "duration": 1109,
        "start_time": "2023-02-23T03:56:31.200Z"
      },
      {
        "duration": 1159,
        "start_time": "2023-02-23T03:57:05.150Z"
      },
      {
        "duration": 36,
        "start_time": "2023-02-23T04:00:42.899Z"
      },
      {
        "duration": 35,
        "start_time": "2023-02-23T04:02:19.889Z"
      },
      {
        "duration": 78,
        "start_time": "2023-02-23T04:06:48.530Z"
      },
      {
        "duration": 83,
        "start_time": "2023-02-23T04:06:59.689Z"
      },
      {
        "duration": 71,
        "start_time": "2023-02-23T04:08:03.810Z"
      },
      {
        "duration": 12,
        "start_time": "2023-02-23T04:08:22.520Z"
      },
      {
        "duration": 10,
        "start_time": "2023-02-23T04:16:57.538Z"
      },
      {
        "duration": 12,
        "start_time": "2023-02-23T04:19:23.138Z"
      },
      {
        "duration": 5,
        "start_time": "2023-02-23T04:19:49.907Z"
      },
      {
        "duration": 12,
        "start_time": "2023-02-23T04:20:55.388Z"
      },
      {
        "duration": 21,
        "start_time": "2023-02-23T04:39:23.964Z"
      },
      {
        "duration": 18,
        "start_time": "2023-02-23T04:46:36.706Z"
      },
      {
        "duration": 18,
        "start_time": "2023-02-23T04:47:36.376Z"
      },
      {
        "duration": 17,
        "start_time": "2023-02-23T04:48:06.106Z"
      },
      {
        "duration": 28,
        "start_time": "2023-02-23T04:51:32.226Z"
      },
      {
        "duration": 36,
        "start_time": "2023-02-23T04:52:00.598Z"
      },
      {
        "duration": 22,
        "start_time": "2023-02-23T04:52:38.757Z"
      },
      {
        "duration": 22,
        "start_time": "2023-02-23T04:53:24.265Z"
      },
      {
        "duration": 7,
        "start_time": "2023-02-23T04:54:28.496Z"
      },
      {
        "duration": 2,
        "start_time": "2023-02-23T04:54:47.366Z"
      },
      {
        "duration": 8,
        "start_time": "2023-02-23T04:54:50.826Z"
      },
      {
        "duration": 11,
        "start_time": "2023-02-23T04:56:07.337Z"
      },
      {
        "duration": 24,
        "start_time": "2023-02-23T04:56:32.426Z"
      },
      {
        "duration": 40,
        "start_time": "2023-02-23T04:56:43.541Z"
      },
      {
        "duration": 33,
        "start_time": "2023-02-23T05:08:09.048Z"
      },
      {
        "duration": 7,
        "start_time": "2023-02-23T05:08:48.815Z"
      },
      {
        "duration": 29,
        "start_time": "2023-02-23T05:11:49.901Z"
      },
      {
        "duration": 31,
        "start_time": "2023-02-23T05:13:17.219Z"
      },
      {
        "duration": 40,
        "start_time": "2023-02-23T05:13:33.357Z"
      },
      {
        "duration": 3,
        "start_time": "2023-02-23T07:20:37.059Z"
      },
      {
        "duration": 8,
        "start_time": "2023-02-23T07:20:50.108Z"
      },
      {
        "duration": 5,
        "start_time": "2023-02-23T07:21:38.157Z"
      },
      {
        "duration": 15,
        "start_time": "2023-02-23T07:21:42.578Z"
      },
      {
        "duration": 15,
        "start_time": "2023-02-23T07:21:59.778Z"
      },
      {
        "duration": 4,
        "start_time": "2023-02-23T07:22:22.065Z"
      },
      {
        "duration": 28,
        "start_time": "2023-02-23T07:22:27.826Z"
      },
      {
        "duration": 5,
        "start_time": "2023-02-23T07:25:03.557Z"
      },
      {
        "duration": 26,
        "start_time": "2023-02-23T07:25:06.628Z"
      },
      {
        "duration": 4,
        "start_time": "2023-02-23T07:27:56.205Z"
      },
      {
        "duration": 4,
        "start_time": "2023-02-23T07:28:00.358Z"
      },
      {
        "duration": 20,
        "start_time": "2023-02-23T07:28:05.338Z"
      },
      {
        "duration": 16,
        "start_time": "2023-02-23T07:29:20.995Z"
      },
      {
        "duration": 16,
        "start_time": "2023-02-23T07:29:59.228Z"
      },
      {
        "duration": 15,
        "start_time": "2023-02-23T07:30:17.221Z"
      },
      {
        "duration": 17,
        "start_time": "2023-02-23T07:30:39.768Z"
      },
      {
        "duration": 15,
        "start_time": "2023-02-23T07:30:52.078Z"
      },
      {
        "duration": 9,
        "start_time": "2023-02-23T07:37:21.319Z"
      },
      {
        "duration": 8,
        "start_time": "2023-02-23T07:43:21.057Z"
      },
      {
        "duration": 15,
        "start_time": "2023-02-23T07:51:58.105Z"
      },
      {
        "duration": 14,
        "start_time": "2023-02-23T07:57:39.357Z"
      },
      {
        "duration": 21,
        "start_time": "2023-02-23T07:58:12.755Z"
      },
      {
        "duration": 21,
        "start_time": "2023-02-23T07:58:55.638Z"
      },
      {
        "duration": 111,
        "start_time": "2023-02-23T08:09:08.117Z"
      },
      {
        "duration": 80,
        "start_time": "2023-02-23T08:17:38.137Z"
      },
      {
        "duration": 84,
        "start_time": "2023-02-23T08:19:07.095Z"
      },
      {
        "duration": 14,
        "start_time": "2023-02-23T08:20:29.845Z"
      },
      {
        "duration": 13,
        "start_time": "2023-02-23T08:21:35.666Z"
      },
      {
        "duration": 13,
        "start_time": "2023-02-23T08:22:55.247Z"
      },
      {
        "duration": 15,
        "start_time": "2023-02-23T08:33:09.977Z"
      },
      {
        "duration": 4,
        "start_time": "2023-02-23T08:33:43.667Z"
      },
      {
        "duration": 7,
        "start_time": "2023-02-23T08:34:17.957Z"
      },
      {
        "duration": 11,
        "start_time": "2023-02-23T08:39:32.187Z"
      },
      {
        "duration": 12,
        "start_time": "2023-02-23T08:40:07.857Z"
      },
      {
        "duration": 5,
        "start_time": "2023-02-23T09:09:14.906Z"
      },
      {
        "duration": 420,
        "start_time": "2023-02-24T03:54:05.543Z"
      },
      {
        "duration": 456,
        "start_time": "2023-02-24T03:54:05.965Z"
      },
      {
        "duration": 17,
        "start_time": "2023-02-24T03:54:06.423Z"
      },
      {
        "duration": 32,
        "start_time": "2023-02-24T03:54:06.442Z"
      },
      {
        "duration": 3,
        "start_time": "2023-02-24T03:54:06.476Z"
      },
      {
        "duration": 7,
        "start_time": "2023-02-24T03:54:06.480Z"
      },
      {
        "duration": 12,
        "start_time": "2023-02-24T03:54:06.489Z"
      },
      {
        "duration": 7,
        "start_time": "2023-02-24T03:54:06.502Z"
      },
      {
        "duration": 54,
        "start_time": "2023-02-24T03:54:06.510Z"
      },
      {
        "duration": 21,
        "start_time": "2023-02-24T03:54:06.566Z"
      },
      {
        "duration": 25,
        "start_time": "2023-02-24T03:54:06.589Z"
      },
      {
        "duration": 89,
        "start_time": "2023-02-24T03:54:06.616Z"
      },
      {
        "duration": 85,
        "start_time": "2023-02-24T03:54:06.706Z"
      },
      {
        "duration": 63,
        "start_time": "2023-02-24T03:54:06.794Z"
      },
      {
        "duration": 42,
        "start_time": "2023-02-24T03:54:06.859Z"
      },
      {
        "duration": 81,
        "start_time": "2023-02-24T03:54:06.903Z"
      },
      {
        "duration": 13,
        "start_time": "2023-02-24T03:54:06.986Z"
      },
      {
        "duration": 47,
        "start_time": "2023-02-24T03:54:07.001Z"
      },
      {
        "duration": 40,
        "start_time": "2023-02-24T03:54:07.050Z"
      },
      {
        "duration": 4,
        "start_time": "2023-02-24T03:54:07.092Z"
      },
      {
        "duration": 20,
        "start_time": "2023-02-24T03:54:07.098Z"
      },
      {
        "duration": 38,
        "start_time": "2023-02-24T03:54:07.120Z"
      },
      {
        "duration": 15,
        "start_time": "2023-02-24T03:54:07.160Z"
      },
      {
        "duration": 14,
        "start_time": "2023-02-24T03:54:07.177Z"
      },
      {
        "duration": 16,
        "start_time": "2023-02-24T03:54:07.193Z"
      },
      {
        "duration": 45,
        "start_time": "2023-02-24T03:54:07.211Z"
      },
      {
        "duration": 7,
        "start_time": "2023-02-24T03:54:07.258Z"
      },
      {
        "duration": 17,
        "start_time": "2023-02-24T03:54:07.267Z"
      },
      {
        "duration": 5,
        "start_time": "2023-02-24T03:56:06.076Z"
      },
      {
        "duration": 78,
        "start_time": "2023-02-24T03:57:11.385Z"
      },
      {
        "duration": 15,
        "start_time": "2023-02-24T04:02:07.515Z"
      },
      {
        "duration": 4,
        "start_time": "2023-02-24T04:05:09.937Z"
      },
      {
        "duration": 1181,
        "start_time": "2023-02-24T04:05:13.141Z"
      },
      {
        "duration": 5,
        "start_time": "2023-02-24T04:09:56.777Z"
      },
      {
        "duration": 17,
        "start_time": "2023-02-24T04:10:00.767Z"
      },
      {
        "duration": 5,
        "start_time": "2023-02-24T04:10:42.404Z"
      },
      {
        "duration": 20,
        "start_time": "2023-02-24T04:10:46.375Z"
      },
      {
        "duration": 5,
        "start_time": "2023-02-24T04:12:04.811Z"
      },
      {
        "duration": 18,
        "start_time": "2023-02-24T04:12:07.646Z"
      },
      {
        "duration": 5,
        "start_time": "2023-02-24T04:15:16.631Z"
      },
      {
        "duration": 25,
        "start_time": "2023-02-24T04:15:19.454Z"
      },
      {
        "duration": 5,
        "start_time": "2023-02-24T04:16:26.384Z"
      },
      {
        "duration": 4,
        "start_time": "2023-02-24T04:18:05.565Z"
      },
      {
        "duration": 5,
        "start_time": "2023-02-24T04:21:10.335Z"
      },
      {
        "duration": 16,
        "start_time": "2023-02-24T04:21:14.555Z"
      },
      {
        "duration": 8,
        "start_time": "2023-02-24T04:23:20.695Z"
      },
      {
        "duration": 18,
        "start_time": "2023-02-24T04:23:23.695Z"
      },
      {
        "duration": 8,
        "start_time": "2023-02-24T04:24:30.227Z"
      },
      {
        "duration": 10,
        "start_time": "2023-02-24T04:25:22.594Z"
      },
      {
        "duration": 5,
        "start_time": "2023-02-24T04:25:27.306Z"
      },
      {
        "duration": 16,
        "start_time": "2023-02-24T04:25:29.617Z"
      },
      {
        "duration": 14,
        "start_time": "2023-02-24T04:25:35.446Z"
      },
      {
        "duration": 19,
        "start_time": "2023-02-24T04:28:36.169Z"
      },
      {
        "duration": 13,
        "start_time": "2023-02-24T04:29:41.145Z"
      },
      {
        "duration": 9,
        "start_time": "2023-02-24T04:37:48.224Z"
      },
      {
        "duration": 5,
        "start_time": "2023-02-24T04:38:26.916Z"
      },
      {
        "duration": 6,
        "start_time": "2023-02-24T04:40:54.355Z"
      },
      {
        "duration": 5,
        "start_time": "2023-02-24T04:41:21.646Z"
      },
      {
        "duration": 58,
        "start_time": "2023-02-24T04:52:20.943Z"
      },
      {
        "duration": 60,
        "start_time": "2023-02-24T04:52:25.212Z"
      },
      {
        "duration": 3,
        "start_time": "2023-02-24T04:52:41.625Z"
      },
      {
        "duration": 185,
        "start_time": "2023-02-24T04:52:41.630Z"
      },
      {
        "duration": 11,
        "start_time": "2023-02-24T04:52:41.817Z"
      },
      {
        "duration": 44,
        "start_time": "2023-02-24T04:52:41.830Z"
      },
      {
        "duration": 3,
        "start_time": "2023-02-24T04:52:41.876Z"
      },
      {
        "duration": 8,
        "start_time": "2023-02-24T04:52:41.881Z"
      },
      {
        "duration": 13,
        "start_time": "2023-02-24T04:52:41.891Z"
      },
      {
        "duration": 6,
        "start_time": "2023-02-24T04:52:41.906Z"
      },
      {
        "duration": 48,
        "start_time": "2023-02-24T04:52:41.914Z"
      },
      {
        "duration": 19,
        "start_time": "2023-02-24T04:52:41.965Z"
      },
      {
        "duration": 27,
        "start_time": "2023-02-24T04:52:41.985Z"
      },
      {
        "duration": 92,
        "start_time": "2023-02-24T04:52:42.014Z"
      },
      {
        "duration": 76,
        "start_time": "2023-02-24T04:52:42.110Z"
      },
      {
        "duration": 66,
        "start_time": "2023-02-24T04:52:42.188Z"
      },
      {
        "duration": 41,
        "start_time": "2023-02-24T04:52:42.256Z"
      },
      {
        "duration": 80,
        "start_time": "2023-02-24T04:52:42.299Z"
      },
      {
        "duration": 13,
        "start_time": "2023-02-24T04:52:42.381Z"
      },
      {
        "duration": 49,
        "start_time": "2023-02-24T04:52:42.396Z"
      },
      {
        "duration": 40,
        "start_time": "2023-02-24T04:52:42.447Z"
      },
      {
        "duration": 3,
        "start_time": "2023-02-24T04:52:42.489Z"
      },
      {
        "duration": 24,
        "start_time": "2023-02-24T04:52:42.494Z"
      },
      {
        "duration": 27,
        "start_time": "2023-02-24T04:52:42.520Z"
      },
      {
        "duration": 14,
        "start_time": "2023-02-24T04:52:42.549Z"
      },
      {
        "duration": 12,
        "start_time": "2023-02-24T04:52:42.565Z"
      },
      {
        "duration": 18,
        "start_time": "2023-02-24T04:52:42.579Z"
      },
      {
        "duration": 46,
        "start_time": "2023-02-24T04:52:42.599Z"
      },
      {
        "duration": 6,
        "start_time": "2023-02-24T04:52:42.647Z"
      },
      {
        "duration": 13,
        "start_time": "2023-02-24T04:52:42.655Z"
      },
      {
        "duration": 12,
        "start_time": "2023-02-24T04:52:42.670Z"
      },
      {
        "duration": 4,
        "start_time": "2023-02-24T04:52:42.684Z"
      },
      {
        "duration": 21,
        "start_time": "2023-02-24T04:52:42.690Z"
      },
      {
        "duration": 33,
        "start_time": "2023-02-24T04:52:42.713Z"
      },
      {
        "duration": 18,
        "start_time": "2023-02-24T04:52:42.747Z"
      },
      {
        "duration": 11,
        "start_time": "2023-02-24T04:52:42.767Z"
      },
      {
        "duration": 9,
        "start_time": "2023-02-24T04:52:42.780Z"
      },
      {
        "duration": 8,
        "start_time": "2023-02-24T04:52:42.790Z"
      },
      {
        "duration": 17,
        "start_time": "2023-02-24T04:52:42.801Z"
      },
      {
        "duration": 27,
        "start_time": "2023-02-24T04:52:42.819Z"
      },
      {
        "duration": 128,
        "start_time": "2023-02-24T04:56:39.706Z"
      },
      {
        "duration": 139,
        "start_time": "2023-02-24T04:57:03.053Z"
      },
      {
        "duration": 61,
        "start_time": "2023-02-24T04:57:47.895Z"
      },
      {
        "duration": 8,
        "start_time": "2023-02-24T05:03:49.603Z"
      },
      {
        "duration": 11,
        "start_time": "2023-02-24T05:07:35.713Z"
      },
      {
        "duration": 10,
        "start_time": "2023-02-24T05:09:04.985Z"
      },
      {
        "duration": 43,
        "start_time": "2023-02-24T05:10:55.625Z"
      },
      {
        "duration": 9,
        "start_time": "2023-02-24T05:32:23.633Z"
      },
      {
        "duration": 12,
        "start_time": "2023-02-24T05:32:40.162Z"
      },
      {
        "duration": 13,
        "start_time": "2023-02-24T05:40:58.365Z"
      },
      {
        "duration": 12,
        "start_time": "2023-02-24T05:43:11.782Z"
      },
      {
        "duration": 70,
        "start_time": "2023-02-24T05:44:54.663Z"
      },
      {
        "duration": 12,
        "start_time": "2023-02-24T05:45:09.184Z"
      },
      {
        "duration": 39,
        "start_time": "2023-02-24T06:26:42.180Z"
      },
      {
        "duration": 38,
        "start_time": "2023-02-24T06:27:17.089Z"
      },
      {
        "duration": 2,
        "start_time": "2023-02-24T06:27:45.469Z"
      },
      {
        "duration": 176,
        "start_time": "2023-02-24T06:27:45.509Z"
      },
      {
        "duration": 10,
        "start_time": "2023-02-24T06:27:45.688Z"
      },
      {
        "duration": 35,
        "start_time": "2023-02-24T06:27:45.699Z"
      },
      {
        "duration": 9,
        "start_time": "2023-02-24T06:27:45.736Z"
      },
      {
        "duration": 5,
        "start_time": "2023-02-24T06:27:45.748Z"
      },
      {
        "duration": 13,
        "start_time": "2023-02-24T06:27:45.755Z"
      },
      {
        "duration": 14,
        "start_time": "2023-02-24T06:27:45.770Z"
      },
      {
        "duration": 33,
        "start_time": "2023-02-24T06:27:45.785Z"
      },
      {
        "duration": 39,
        "start_time": "2023-02-24T06:27:45.821Z"
      },
      {
        "duration": 29,
        "start_time": "2023-02-24T06:27:45.863Z"
      },
      {
        "duration": 90,
        "start_time": "2023-02-24T06:27:45.894Z"
      },
      {
        "duration": 72,
        "start_time": "2023-02-24T06:27:45.986Z"
      },
      {
        "duration": 64,
        "start_time": "2023-02-24T06:27:46.060Z"
      },
      {
        "duration": 53,
        "start_time": "2023-02-24T06:27:46.127Z"
      },
      {
        "duration": 72,
        "start_time": "2023-02-24T06:27:46.182Z"
      },
      {
        "duration": 43,
        "start_time": "2023-02-24T06:27:46.256Z"
      },
      {
        "duration": 12,
        "start_time": "2023-02-24T06:27:46.301Z"
      },
      {
        "duration": 13,
        "start_time": "2023-02-24T06:30:20.339Z"
      }
    ],
    "colab": {
      "provenance": []
    },
    "kernelspec": {
      "display_name": "Python 3 (ipykernel)",
      "language": "python",
      "name": "python3"
    },
    "language_info": {
      "codemirror_mode": {
        "name": "ipython",
        "version": 3
      },
      "file_extension": ".py",
      "mimetype": "text/x-python",
      "name": "python",
      "nbconvert_exporter": "python",
      "pygments_lexer": "ipython3",
      "version": "3.9.5"
    },
    "toc": {
      "base_numbering": 1,
      "nav_menu": {
        "height": "215px",
        "width": "403px"
      },
      "number_sections": true,
      "sideBar": true,
      "skip_h1_title": true,
      "title_cell": "Table of Contents",
      "title_sidebar": "Contents",
      "toc_cell": false,
      "toc_position": {
        "height": "calc(100% - 180px)",
        "left": "10px",
        "top": "150px",
        "width": "165px"
      },
      "toc_section_display": true,
      "toc_window_display": false
    }
  },
  "nbformat": 4,
  "nbformat_minor": 0
}
